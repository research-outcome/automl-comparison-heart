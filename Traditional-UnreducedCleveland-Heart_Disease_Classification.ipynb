{
  "cells": [
    {
      "cell_type": "markdown",
      "metadata": {
        "id": "lbOytv4mz_lx"
      },
      "source": [
        "# Heart Disease Classification using Cleveland Dataset - Not Reduced"
      ]
    },
    {
      "cell_type": "markdown",
      "source": [
        "This notebook applies traditional machine learning approach to Cleveland Heart dataset for classifying heart disease. The steps do not include feature enginering, specifically does not include the selected the most correlated features with the label. Hence, the dataset is **_not reduced_**.\n",
        "\n",
        "\n",
        "\n",
        "**The steps performed on the notebook is as follows:**\n",
        "\n",
        "1) To clean the data, remove the rows that have missing information on columns ca and thal.\n",
        "\n",
        "2) Converted all fields to numeric data types\n",
        "\n",
        "3) Scaled the data\n",
        "\n",
        "4) Calculated cross validation (k=5) accuracy scores for 10 different machine learning algorithms:\n",
        "\n",
        "- Stochastic Gradient Descent (SGD)\n",
        "- LogisticRegression\n",
        "- Support Vector Machine (kernel='linear' parameter)\n",
        "- Support Vector Machine (kernel = 'rbf' parameter)\n",
        "- DecisionTreeClassifier\n",
        "- RandomForestClassifier\n",
        "- ExtraTreesClassifier\n",
        "- AdaBoostClassifier\n",
        "- GradientBoostingClassifier\n",
        "- XGBoost\n",
        "\n",
        "\n",
        "5) Identified top-performing algorithms (adaboost, random forest, gradient boosting, XGB) that can be fine-tuned by adjusting hyperparameters. Improved accuracy scores by performing Grid Search with the following hyperparameters:\n",
        "\n",
        "- n_estimators = [100, 200, 300, 400, 500]\n",
        "- learning_rate = [0.3, 0.1, 0.05]\n",
        "- max_features = [1, 0.7, 0.5, 0.4, 0.3]\n",
        "- subsample = [1, 0.5, 0.3]\n",
        "- max_samples = [1, 0.5, 0.3, 0.2]\n",
        "- bootstrap = [True,False]\n",
        "\n",
        "6) Using the fine-tuned estimators (adaboost, random forest, gradient boosting, XGB) and top-performing other estimators (SVC, SGD, Logistic regression), formed an ensemble voting classifier.\n",
        "\n",
        "\n",
        "\n",
        "\n"
      ],
      "metadata": {
        "id": "Zf7D3iTaXvSr"
      }
    },
    {
      "cell_type": "markdown",
      "source": [
        "#### Import the data and perform exploratory data analysis:"
      ],
      "metadata": {
        "id": "LRGzH50vHuoI"
      }
    },
    {
      "cell_type": "code",
      "source": [
        "from google.colab import files\n",
        "import pandas as pd\n",
        "import io\n",
        "import os"
      ],
      "metadata": {
        "id": "Q1DTLK9Ujl4e"
      },
      "execution_count": 3,
      "outputs": []
    },
    {
      "cell_type": "code",
      "source": [
        "import pandas as pd\n",
        "import os\n",
        "train_csv_path = \"processed.cleveland.data\"\n",
        "#Upload the file to the files section of colab before running the code\n",
        "\n",
        "train_data = pd.read_csv(train_csv_path, sep = '\\t')"
      ],
      "metadata": {
        "id": "2KsZwnt8jouB"
      },
      "execution_count": 6,
      "outputs": []
    },
    {
      "cell_type": "code",
      "execution_count": 7,
      "metadata": {
        "colab": {
          "base_uri": "https://localhost:8080/",
          "height": 206
        },
        "id": "EmDCrbfA2VZM",
        "outputId": "01b6dbc2-1c4e-42db-f565-55844b7e2d12"
      },
      "outputs": [
        {
          "output_type": "execute_result",
          "data": {
            "text/plain": [
              "   age  sex  cp  trestbps  chol  fbs  restecg  thalach  exang  oldpeak  slope  \\\n",
              "0   63    1   1       145   233    1        2      150      0      2.3      3   \n",
              "1   67    1   4       160   286    0        2      108      1      1.5      2   \n",
              "2   67    1   4       120   229    0        2      129      1      2.6      2   \n",
              "3   37    1   3       130   250    0        0      187      0      3.5      3   \n",
              "4   41    0   2       130   204    0        2      172      0      1.4      1   \n",
              "\n",
              "  ca thal  num  \n",
              "0  0    6    0  \n",
              "1  3    3    2  \n",
              "2  2    7    1  \n",
              "3  0    3    0  \n",
              "4  0    3    0  "
            ],
            "text/html": [
              "\n",
              "  <div id=\"df-403513f3-b7d8-4338-8ec3-d847c8261257\">\n",
              "    <div class=\"colab-df-container\">\n",
              "      <div>\n",
              "<style scoped>\n",
              "    .dataframe tbody tr th:only-of-type {\n",
              "        vertical-align: middle;\n",
              "    }\n",
              "\n",
              "    .dataframe tbody tr th {\n",
              "        vertical-align: top;\n",
              "    }\n",
              "\n",
              "    .dataframe thead th {\n",
              "        text-align: right;\n",
              "    }\n",
              "</style>\n",
              "<table border=\"1\" class=\"dataframe\">\n",
              "  <thead>\n",
              "    <tr style=\"text-align: right;\">\n",
              "      <th></th>\n",
              "      <th>age</th>\n",
              "      <th>sex</th>\n",
              "      <th>cp</th>\n",
              "      <th>trestbps</th>\n",
              "      <th>chol</th>\n",
              "      <th>fbs</th>\n",
              "      <th>restecg</th>\n",
              "      <th>thalach</th>\n",
              "      <th>exang</th>\n",
              "      <th>oldpeak</th>\n",
              "      <th>slope</th>\n",
              "      <th>ca</th>\n",
              "      <th>thal</th>\n",
              "      <th>num</th>\n",
              "    </tr>\n",
              "  </thead>\n",
              "  <tbody>\n",
              "    <tr>\n",
              "      <th>0</th>\n",
              "      <td>63</td>\n",
              "      <td>1</td>\n",
              "      <td>1</td>\n",
              "      <td>145</td>\n",
              "      <td>233</td>\n",
              "      <td>1</td>\n",
              "      <td>2</td>\n",
              "      <td>150</td>\n",
              "      <td>0</td>\n",
              "      <td>2.3</td>\n",
              "      <td>3</td>\n",
              "      <td>0</td>\n",
              "      <td>6</td>\n",
              "      <td>0</td>\n",
              "    </tr>\n",
              "    <tr>\n",
              "      <th>1</th>\n",
              "      <td>67</td>\n",
              "      <td>1</td>\n",
              "      <td>4</td>\n",
              "      <td>160</td>\n",
              "      <td>286</td>\n",
              "      <td>0</td>\n",
              "      <td>2</td>\n",
              "      <td>108</td>\n",
              "      <td>1</td>\n",
              "      <td>1.5</td>\n",
              "      <td>2</td>\n",
              "      <td>3</td>\n",
              "      <td>3</td>\n",
              "      <td>2</td>\n",
              "    </tr>\n",
              "    <tr>\n",
              "      <th>2</th>\n",
              "      <td>67</td>\n",
              "      <td>1</td>\n",
              "      <td>4</td>\n",
              "      <td>120</td>\n",
              "      <td>229</td>\n",
              "      <td>0</td>\n",
              "      <td>2</td>\n",
              "      <td>129</td>\n",
              "      <td>1</td>\n",
              "      <td>2.6</td>\n",
              "      <td>2</td>\n",
              "      <td>2</td>\n",
              "      <td>7</td>\n",
              "      <td>1</td>\n",
              "    </tr>\n",
              "    <tr>\n",
              "      <th>3</th>\n",
              "      <td>37</td>\n",
              "      <td>1</td>\n",
              "      <td>3</td>\n",
              "      <td>130</td>\n",
              "      <td>250</td>\n",
              "      <td>0</td>\n",
              "      <td>0</td>\n",
              "      <td>187</td>\n",
              "      <td>0</td>\n",
              "      <td>3.5</td>\n",
              "      <td>3</td>\n",
              "      <td>0</td>\n",
              "      <td>3</td>\n",
              "      <td>0</td>\n",
              "    </tr>\n",
              "    <tr>\n",
              "      <th>4</th>\n",
              "      <td>41</td>\n",
              "      <td>0</td>\n",
              "      <td>2</td>\n",
              "      <td>130</td>\n",
              "      <td>204</td>\n",
              "      <td>0</td>\n",
              "      <td>2</td>\n",
              "      <td>172</td>\n",
              "      <td>0</td>\n",
              "      <td>1.4</td>\n",
              "      <td>1</td>\n",
              "      <td>0</td>\n",
              "      <td>3</td>\n",
              "      <td>0</td>\n",
              "    </tr>\n",
              "  </tbody>\n",
              "</table>\n",
              "</div>\n",
              "      <button class=\"colab-df-convert\" onclick=\"convertToInteractive('df-403513f3-b7d8-4338-8ec3-d847c8261257')\"\n",
              "              title=\"Convert this dataframe to an interactive table.\"\n",
              "              style=\"display:none;\">\n",
              "        \n",
              "  <svg xmlns=\"http://www.w3.org/2000/svg\" height=\"24px\"viewBox=\"0 0 24 24\"\n",
              "       width=\"24px\">\n",
              "    <path d=\"M0 0h24v24H0V0z\" fill=\"none\"/>\n",
              "    <path d=\"M18.56 5.44l.94 2.06.94-2.06 2.06-.94-2.06-.94-.94-2.06-.94 2.06-2.06.94zm-11 1L8.5 8.5l.94-2.06 2.06-.94-2.06-.94L8.5 2.5l-.94 2.06-2.06.94zm10 10l.94 2.06.94-2.06 2.06-.94-2.06-.94-.94-2.06-.94 2.06-2.06.94z\"/><path d=\"M17.41 7.96l-1.37-1.37c-.4-.4-.92-.59-1.43-.59-.52 0-1.04.2-1.43.59L10.3 9.45l-7.72 7.72c-.78.78-.78 2.05 0 2.83L4 21.41c.39.39.9.59 1.41.59.51 0 1.02-.2 1.41-.59l7.78-7.78 2.81-2.81c.8-.78.8-2.07 0-2.86zM5.41 20L4 18.59l7.72-7.72 1.47 1.35L5.41 20z\"/>\n",
              "  </svg>\n",
              "      </button>\n",
              "      \n",
              "  <style>\n",
              "    .colab-df-container {\n",
              "      display:flex;\n",
              "      flex-wrap:wrap;\n",
              "      gap: 12px;\n",
              "    }\n",
              "\n",
              "    .colab-df-convert {\n",
              "      background-color: #E8F0FE;\n",
              "      border: none;\n",
              "      border-radius: 50%;\n",
              "      cursor: pointer;\n",
              "      display: none;\n",
              "      fill: #1967D2;\n",
              "      height: 32px;\n",
              "      padding: 0 0 0 0;\n",
              "      width: 32px;\n",
              "    }\n",
              "\n",
              "    .colab-df-convert:hover {\n",
              "      background-color: #E2EBFA;\n",
              "      box-shadow: 0px 1px 2px rgba(60, 64, 67, 0.3), 0px 1px 3px 1px rgba(60, 64, 67, 0.15);\n",
              "      fill: #174EA6;\n",
              "    }\n",
              "\n",
              "    [theme=dark] .colab-df-convert {\n",
              "      background-color: #3B4455;\n",
              "      fill: #D2E3FC;\n",
              "    }\n",
              "\n",
              "    [theme=dark] .colab-df-convert:hover {\n",
              "      background-color: #434B5C;\n",
              "      box-shadow: 0px 1px 3px 1px rgba(0, 0, 0, 0.15);\n",
              "      filter: drop-shadow(0px 1px 2px rgba(0, 0, 0, 0.3));\n",
              "      fill: #FFFFFF;\n",
              "    }\n",
              "  </style>\n",
              "\n",
              "      <script>\n",
              "        const buttonEl =\n",
              "          document.querySelector('#df-403513f3-b7d8-4338-8ec3-d847c8261257 button.colab-df-convert');\n",
              "        buttonEl.style.display =\n",
              "          google.colab.kernel.accessAllowed ? 'block' : 'none';\n",
              "\n",
              "        async function convertToInteractive(key) {\n",
              "          const element = document.querySelector('#df-403513f3-b7d8-4338-8ec3-d847c8261257');\n",
              "          const dataTable =\n",
              "            await google.colab.kernel.invokeFunction('convertToInteractive',\n",
              "                                                     [key], {});\n",
              "          if (!dataTable) return;\n",
              "\n",
              "          const docLinkHtml = 'Like what you see? Visit the ' +\n",
              "            '<a target=\"_blank\" href=https://colab.research.google.com/notebooks/data_table.ipynb>data table notebook</a>'\n",
              "            + ' to learn more about interactive tables.';\n",
              "          element.innerHTML = '';\n",
              "          dataTable['output_type'] = 'display_data';\n",
              "          await google.colab.output.renderOutput(dataTable, element);\n",
              "          const docLink = document.createElement('div');\n",
              "          docLink.innerHTML = docLinkHtml;\n",
              "          element.appendChild(docLink);\n",
              "        }\n",
              "      </script>\n",
              "    </div>\n",
              "  </div>\n",
              "  "
            ]
          },
          "metadata": {},
          "execution_count": 7
        }
      ],
      "source": [
        "train_data.head()"
      ]
    },
    {
      "cell_type": "code",
      "execution_count": 8,
      "metadata": {
        "colab": {
          "base_uri": "https://localhost:8080/"
        },
        "id": "wBV6J6vY2cx-",
        "outputId": "a72545bc-4679-4952-8bb9-959d7f19bd2f"
      },
      "outputs": [
        {
          "output_type": "stream",
          "name": "stdout",
          "text": [
            "<class 'pandas.core.frame.DataFrame'>\n",
            "RangeIndex: 303 entries, 0 to 302\n",
            "Data columns (total 14 columns):\n",
            " #   Column    Non-Null Count  Dtype  \n",
            "---  ------    --------------  -----  \n",
            " 0   age       303 non-null    int64  \n",
            " 1   sex       303 non-null    int64  \n",
            " 2   cp        303 non-null    int64  \n",
            " 3   trestbps  303 non-null    int64  \n",
            " 4   chol      303 non-null    int64  \n",
            " 5   fbs       303 non-null    int64  \n",
            " 6   restecg   303 non-null    int64  \n",
            " 7   thalach   303 non-null    int64  \n",
            " 8   exang     303 non-null    int64  \n",
            " 9   oldpeak   303 non-null    float64\n",
            " 10  slope     303 non-null    int64  \n",
            " 11  ca        303 non-null    object \n",
            " 12  thal      303 non-null    object \n",
            " 13  num       303 non-null    int64  \n",
            "dtypes: float64(1), int64(11), object(2)\n",
            "memory usage: 33.3+ KB\n"
          ]
        }
      ],
      "source": [
        "train_data.info()"
      ]
    },
    {
      "cell_type": "code",
      "execution_count": 9,
      "metadata": {
        "colab": {
          "base_uri": "https://localhost:8080/",
          "height": 364
        },
        "id": "Hh-TsSnM2lzS",
        "outputId": "cbd94bb3-622a-4542-cf16-8110b90253c3"
      },
      "outputs": [
        {
          "output_type": "execute_result",
          "data": {
            "text/plain": [
              "              age         sex          cp    trestbps        chol         fbs  \\\n",
              "count  303.000000  303.000000  303.000000  303.000000  303.000000  303.000000   \n",
              "mean    54.438944    0.679868    3.158416  131.689769  246.693069    0.148515   \n",
              "std      9.038662    0.467299    0.960126   17.599748   51.776918    0.356198   \n",
              "min     29.000000    0.000000    1.000000   94.000000  126.000000    0.000000   \n",
              "25%     48.000000    0.000000    3.000000  120.000000  211.000000    0.000000   \n",
              "50%     56.000000    1.000000    3.000000  130.000000  241.000000    0.000000   \n",
              "75%     61.000000    1.000000    4.000000  140.000000  275.000000    0.000000   \n",
              "max     77.000000    1.000000    4.000000  200.000000  564.000000    1.000000   \n",
              "\n",
              "          restecg     thalach       exang     oldpeak       slope         num  \n",
              "count  303.000000  303.000000  303.000000  303.000000  303.000000  303.000000  \n",
              "mean     0.990099  149.607261    0.326733    1.039604    1.600660    0.937294  \n",
              "std      0.994971   22.875003    0.469794    1.161075    0.616226    1.228536  \n",
              "min      0.000000   71.000000    0.000000    0.000000    1.000000    0.000000  \n",
              "25%      0.000000  133.500000    0.000000    0.000000    1.000000    0.000000  \n",
              "50%      1.000000  153.000000    0.000000    0.800000    2.000000    0.000000  \n",
              "75%      2.000000  166.000000    1.000000    1.600000    2.000000    2.000000  \n",
              "max      2.000000  202.000000    1.000000    6.200000    3.000000    4.000000  "
            ],
            "text/html": [
              "\n",
              "  <div id=\"df-94530bca-9737-41fc-aa4e-5da790ffd5be\">\n",
              "    <div class=\"colab-df-container\">\n",
              "      <div>\n",
              "<style scoped>\n",
              "    .dataframe tbody tr th:only-of-type {\n",
              "        vertical-align: middle;\n",
              "    }\n",
              "\n",
              "    .dataframe tbody tr th {\n",
              "        vertical-align: top;\n",
              "    }\n",
              "\n",
              "    .dataframe thead th {\n",
              "        text-align: right;\n",
              "    }\n",
              "</style>\n",
              "<table border=\"1\" class=\"dataframe\">\n",
              "  <thead>\n",
              "    <tr style=\"text-align: right;\">\n",
              "      <th></th>\n",
              "      <th>age</th>\n",
              "      <th>sex</th>\n",
              "      <th>cp</th>\n",
              "      <th>trestbps</th>\n",
              "      <th>chol</th>\n",
              "      <th>fbs</th>\n",
              "      <th>restecg</th>\n",
              "      <th>thalach</th>\n",
              "      <th>exang</th>\n",
              "      <th>oldpeak</th>\n",
              "      <th>slope</th>\n",
              "      <th>num</th>\n",
              "    </tr>\n",
              "  </thead>\n",
              "  <tbody>\n",
              "    <tr>\n",
              "      <th>count</th>\n",
              "      <td>303.000000</td>\n",
              "      <td>303.000000</td>\n",
              "      <td>303.000000</td>\n",
              "      <td>303.000000</td>\n",
              "      <td>303.000000</td>\n",
              "      <td>303.000000</td>\n",
              "      <td>303.000000</td>\n",
              "      <td>303.000000</td>\n",
              "      <td>303.000000</td>\n",
              "      <td>303.000000</td>\n",
              "      <td>303.000000</td>\n",
              "      <td>303.000000</td>\n",
              "    </tr>\n",
              "    <tr>\n",
              "      <th>mean</th>\n",
              "      <td>54.438944</td>\n",
              "      <td>0.679868</td>\n",
              "      <td>3.158416</td>\n",
              "      <td>131.689769</td>\n",
              "      <td>246.693069</td>\n",
              "      <td>0.148515</td>\n",
              "      <td>0.990099</td>\n",
              "      <td>149.607261</td>\n",
              "      <td>0.326733</td>\n",
              "      <td>1.039604</td>\n",
              "      <td>1.600660</td>\n",
              "      <td>0.937294</td>\n",
              "    </tr>\n",
              "    <tr>\n",
              "      <th>std</th>\n",
              "      <td>9.038662</td>\n",
              "      <td>0.467299</td>\n",
              "      <td>0.960126</td>\n",
              "      <td>17.599748</td>\n",
              "      <td>51.776918</td>\n",
              "      <td>0.356198</td>\n",
              "      <td>0.994971</td>\n",
              "      <td>22.875003</td>\n",
              "      <td>0.469794</td>\n",
              "      <td>1.161075</td>\n",
              "      <td>0.616226</td>\n",
              "      <td>1.228536</td>\n",
              "    </tr>\n",
              "    <tr>\n",
              "      <th>min</th>\n",
              "      <td>29.000000</td>\n",
              "      <td>0.000000</td>\n",
              "      <td>1.000000</td>\n",
              "      <td>94.000000</td>\n",
              "      <td>126.000000</td>\n",
              "      <td>0.000000</td>\n",
              "      <td>0.000000</td>\n",
              "      <td>71.000000</td>\n",
              "      <td>0.000000</td>\n",
              "      <td>0.000000</td>\n",
              "      <td>1.000000</td>\n",
              "      <td>0.000000</td>\n",
              "    </tr>\n",
              "    <tr>\n",
              "      <th>25%</th>\n",
              "      <td>48.000000</td>\n",
              "      <td>0.000000</td>\n",
              "      <td>3.000000</td>\n",
              "      <td>120.000000</td>\n",
              "      <td>211.000000</td>\n",
              "      <td>0.000000</td>\n",
              "      <td>0.000000</td>\n",
              "      <td>133.500000</td>\n",
              "      <td>0.000000</td>\n",
              "      <td>0.000000</td>\n",
              "      <td>1.000000</td>\n",
              "      <td>0.000000</td>\n",
              "    </tr>\n",
              "    <tr>\n",
              "      <th>50%</th>\n",
              "      <td>56.000000</td>\n",
              "      <td>1.000000</td>\n",
              "      <td>3.000000</td>\n",
              "      <td>130.000000</td>\n",
              "      <td>241.000000</td>\n",
              "      <td>0.000000</td>\n",
              "      <td>1.000000</td>\n",
              "      <td>153.000000</td>\n",
              "      <td>0.000000</td>\n",
              "      <td>0.800000</td>\n",
              "      <td>2.000000</td>\n",
              "      <td>0.000000</td>\n",
              "    </tr>\n",
              "    <tr>\n",
              "      <th>75%</th>\n",
              "      <td>61.000000</td>\n",
              "      <td>1.000000</td>\n",
              "      <td>4.000000</td>\n",
              "      <td>140.000000</td>\n",
              "      <td>275.000000</td>\n",
              "      <td>0.000000</td>\n",
              "      <td>2.000000</td>\n",
              "      <td>166.000000</td>\n",
              "      <td>1.000000</td>\n",
              "      <td>1.600000</td>\n",
              "      <td>2.000000</td>\n",
              "      <td>2.000000</td>\n",
              "    </tr>\n",
              "    <tr>\n",
              "      <th>max</th>\n",
              "      <td>77.000000</td>\n",
              "      <td>1.000000</td>\n",
              "      <td>4.000000</td>\n",
              "      <td>200.000000</td>\n",
              "      <td>564.000000</td>\n",
              "      <td>1.000000</td>\n",
              "      <td>2.000000</td>\n",
              "      <td>202.000000</td>\n",
              "      <td>1.000000</td>\n",
              "      <td>6.200000</td>\n",
              "      <td>3.000000</td>\n",
              "      <td>4.000000</td>\n",
              "    </tr>\n",
              "  </tbody>\n",
              "</table>\n",
              "</div>\n",
              "      <button class=\"colab-df-convert\" onclick=\"convertToInteractive('df-94530bca-9737-41fc-aa4e-5da790ffd5be')\"\n",
              "              title=\"Convert this dataframe to an interactive table.\"\n",
              "              style=\"display:none;\">\n",
              "        \n",
              "  <svg xmlns=\"http://www.w3.org/2000/svg\" height=\"24px\"viewBox=\"0 0 24 24\"\n",
              "       width=\"24px\">\n",
              "    <path d=\"M0 0h24v24H0V0z\" fill=\"none\"/>\n",
              "    <path d=\"M18.56 5.44l.94 2.06.94-2.06 2.06-.94-2.06-.94-.94-2.06-.94 2.06-2.06.94zm-11 1L8.5 8.5l.94-2.06 2.06-.94-2.06-.94L8.5 2.5l-.94 2.06-2.06.94zm10 10l.94 2.06.94-2.06 2.06-.94-2.06-.94-.94-2.06-.94 2.06-2.06.94z\"/><path d=\"M17.41 7.96l-1.37-1.37c-.4-.4-.92-.59-1.43-.59-.52 0-1.04.2-1.43.59L10.3 9.45l-7.72 7.72c-.78.78-.78 2.05 0 2.83L4 21.41c.39.39.9.59 1.41.59.51 0 1.02-.2 1.41-.59l7.78-7.78 2.81-2.81c.8-.78.8-2.07 0-2.86zM5.41 20L4 18.59l7.72-7.72 1.47 1.35L5.41 20z\"/>\n",
              "  </svg>\n",
              "      </button>\n",
              "      \n",
              "  <style>\n",
              "    .colab-df-container {\n",
              "      display:flex;\n",
              "      flex-wrap:wrap;\n",
              "      gap: 12px;\n",
              "    }\n",
              "\n",
              "    .colab-df-convert {\n",
              "      background-color: #E8F0FE;\n",
              "      border: none;\n",
              "      border-radius: 50%;\n",
              "      cursor: pointer;\n",
              "      display: none;\n",
              "      fill: #1967D2;\n",
              "      height: 32px;\n",
              "      padding: 0 0 0 0;\n",
              "      width: 32px;\n",
              "    }\n",
              "\n",
              "    .colab-df-convert:hover {\n",
              "      background-color: #E2EBFA;\n",
              "      box-shadow: 0px 1px 2px rgba(60, 64, 67, 0.3), 0px 1px 3px 1px rgba(60, 64, 67, 0.15);\n",
              "      fill: #174EA6;\n",
              "    }\n",
              "\n",
              "    [theme=dark] .colab-df-convert {\n",
              "      background-color: #3B4455;\n",
              "      fill: #D2E3FC;\n",
              "    }\n",
              "\n",
              "    [theme=dark] .colab-df-convert:hover {\n",
              "      background-color: #434B5C;\n",
              "      box-shadow: 0px 1px 3px 1px rgba(0, 0, 0, 0.15);\n",
              "      filter: drop-shadow(0px 1px 2px rgba(0, 0, 0, 0.3));\n",
              "      fill: #FFFFFF;\n",
              "    }\n",
              "  </style>\n",
              "\n",
              "      <script>\n",
              "        const buttonEl =\n",
              "          document.querySelector('#df-94530bca-9737-41fc-aa4e-5da790ffd5be button.colab-df-convert');\n",
              "        buttonEl.style.display =\n",
              "          google.colab.kernel.accessAllowed ? 'block' : 'none';\n",
              "\n",
              "        async function convertToInteractive(key) {\n",
              "          const element = document.querySelector('#df-94530bca-9737-41fc-aa4e-5da790ffd5be');\n",
              "          const dataTable =\n",
              "            await google.colab.kernel.invokeFunction('convertToInteractive',\n",
              "                                                     [key], {});\n",
              "          if (!dataTable) return;\n",
              "\n",
              "          const docLinkHtml = 'Like what you see? Visit the ' +\n",
              "            '<a target=\"_blank\" href=https://colab.research.google.com/notebooks/data_table.ipynb>data table notebook</a>'\n",
              "            + ' to learn more about interactive tables.';\n",
              "          element.innerHTML = '';\n",
              "          dataTable['output_type'] = 'display_data';\n",
              "          await google.colab.output.renderOutput(dataTable, element);\n",
              "          const docLink = document.createElement('div');\n",
              "          docLink.innerHTML = docLinkHtml;\n",
              "          element.appendChild(docLink);\n",
              "        }\n",
              "      </script>\n",
              "    </div>\n",
              "  </div>\n",
              "  "
            ]
          },
          "metadata": {},
          "execution_count": 9
        }
      ],
      "source": [
        "train_data.describe()"
      ]
    },
    {
      "cell_type": "markdown",
      "source": [
        "#### Identify non-numeric data in the object fields (thal and ca)"
      ],
      "metadata": {
        "id": "CJ4nJaosR7vw"
      }
    },
    {
      "cell_type": "code",
      "execution_count": 10,
      "metadata": {
        "colab": {
          "base_uri": "https://localhost:8080/"
        },
        "id": "WojYLTpZjQPC",
        "outputId": "7931bacc-e2cb-449a-a80f-97a4f3d3e036"
      },
      "outputs": [
        {
          "output_type": "execute_result",
          "data": {
            "text/plain": [
              "0      0.0\n",
              "1      3.0\n",
              "2      2.0\n",
              "3      0.0\n",
              "4      0.0\n",
              "      ... \n",
              "298    0.0\n",
              "299    2.0\n",
              "300    1.0\n",
              "301    1.0\n",
              "302    NaN\n",
              "Name: ca, Length: 303, dtype: float64"
            ]
          },
          "metadata": {},
          "execution_count": 10
        }
      ],
      "source": [
        "ca = pd.to_numeric(train_data.ca, errors='coerce') #Convert to numeric using 'coerce' which fills bad values with 'nan'\n",
        "ca"
      ]
    },
    {
      "cell_type": "code",
      "execution_count": 11,
      "metadata": {
        "colab": {
          "base_uri": "https://localhost:8080/",
          "height": 175
        },
        "id": "jJWU_9TFji37",
        "outputId": "9507447d-32f3-4f0c-eda7-75f2255e8723"
      },
      "outputs": [
        {
          "output_type": "execute_result",
          "data": {
            "text/plain": [
              "     age  sex  cp  trestbps  chol  fbs  restecg  thalach  exang  oldpeak  \\\n",
              "166   52    1   3       138   223    0        0      169      0      0.0   \n",
              "192   43    1   4       132   247    1        2      143      1      0.1   \n",
              "287   58    1   2       125   220    0        0      144      0      0.4   \n",
              "302   38    1   3       138   175    0        0      173      0      0.0   \n",
              "\n",
              "     slope ca thal  num  \n",
              "166      1  ?    3    0  \n",
              "192      2  ?    7    1  \n",
              "287      2  ?    7    0  \n",
              "302      1  ?    3    0  "
            ],
            "text/html": [
              "\n",
              "  <div id=\"df-8916ca9d-a292-42e4-b14c-3b84c1133d5e\">\n",
              "    <div class=\"colab-df-container\">\n",
              "      <div>\n",
              "<style scoped>\n",
              "    .dataframe tbody tr th:only-of-type {\n",
              "        vertical-align: middle;\n",
              "    }\n",
              "\n",
              "    .dataframe tbody tr th {\n",
              "        vertical-align: top;\n",
              "    }\n",
              "\n",
              "    .dataframe thead th {\n",
              "        text-align: right;\n",
              "    }\n",
              "</style>\n",
              "<table border=\"1\" class=\"dataframe\">\n",
              "  <thead>\n",
              "    <tr style=\"text-align: right;\">\n",
              "      <th></th>\n",
              "      <th>age</th>\n",
              "      <th>sex</th>\n",
              "      <th>cp</th>\n",
              "      <th>trestbps</th>\n",
              "      <th>chol</th>\n",
              "      <th>fbs</th>\n",
              "      <th>restecg</th>\n",
              "      <th>thalach</th>\n",
              "      <th>exang</th>\n",
              "      <th>oldpeak</th>\n",
              "      <th>slope</th>\n",
              "      <th>ca</th>\n",
              "      <th>thal</th>\n",
              "      <th>num</th>\n",
              "    </tr>\n",
              "  </thead>\n",
              "  <tbody>\n",
              "    <tr>\n",
              "      <th>166</th>\n",
              "      <td>52</td>\n",
              "      <td>1</td>\n",
              "      <td>3</td>\n",
              "      <td>138</td>\n",
              "      <td>223</td>\n",
              "      <td>0</td>\n",
              "      <td>0</td>\n",
              "      <td>169</td>\n",
              "      <td>0</td>\n",
              "      <td>0.0</td>\n",
              "      <td>1</td>\n",
              "      <td>?</td>\n",
              "      <td>3</td>\n",
              "      <td>0</td>\n",
              "    </tr>\n",
              "    <tr>\n",
              "      <th>192</th>\n",
              "      <td>43</td>\n",
              "      <td>1</td>\n",
              "      <td>4</td>\n",
              "      <td>132</td>\n",
              "      <td>247</td>\n",
              "      <td>1</td>\n",
              "      <td>2</td>\n",
              "      <td>143</td>\n",
              "      <td>1</td>\n",
              "      <td>0.1</td>\n",
              "      <td>2</td>\n",
              "      <td>?</td>\n",
              "      <td>7</td>\n",
              "      <td>1</td>\n",
              "    </tr>\n",
              "    <tr>\n",
              "      <th>287</th>\n",
              "      <td>58</td>\n",
              "      <td>1</td>\n",
              "      <td>2</td>\n",
              "      <td>125</td>\n",
              "      <td>220</td>\n",
              "      <td>0</td>\n",
              "      <td>0</td>\n",
              "      <td>144</td>\n",
              "      <td>0</td>\n",
              "      <td>0.4</td>\n",
              "      <td>2</td>\n",
              "      <td>?</td>\n",
              "      <td>7</td>\n",
              "      <td>0</td>\n",
              "    </tr>\n",
              "    <tr>\n",
              "      <th>302</th>\n",
              "      <td>38</td>\n",
              "      <td>1</td>\n",
              "      <td>3</td>\n",
              "      <td>138</td>\n",
              "      <td>175</td>\n",
              "      <td>0</td>\n",
              "      <td>0</td>\n",
              "      <td>173</td>\n",
              "      <td>0</td>\n",
              "      <td>0.0</td>\n",
              "      <td>1</td>\n",
              "      <td>?</td>\n",
              "      <td>3</td>\n",
              "      <td>0</td>\n",
              "    </tr>\n",
              "  </tbody>\n",
              "</table>\n",
              "</div>\n",
              "      <button class=\"colab-df-convert\" onclick=\"convertToInteractive('df-8916ca9d-a292-42e4-b14c-3b84c1133d5e')\"\n",
              "              title=\"Convert this dataframe to an interactive table.\"\n",
              "              style=\"display:none;\">\n",
              "        \n",
              "  <svg xmlns=\"http://www.w3.org/2000/svg\" height=\"24px\"viewBox=\"0 0 24 24\"\n",
              "       width=\"24px\">\n",
              "    <path d=\"M0 0h24v24H0V0z\" fill=\"none\"/>\n",
              "    <path d=\"M18.56 5.44l.94 2.06.94-2.06 2.06-.94-2.06-.94-.94-2.06-.94 2.06-2.06.94zm-11 1L8.5 8.5l.94-2.06 2.06-.94-2.06-.94L8.5 2.5l-.94 2.06-2.06.94zm10 10l.94 2.06.94-2.06 2.06-.94-2.06-.94-.94-2.06-.94 2.06-2.06.94z\"/><path d=\"M17.41 7.96l-1.37-1.37c-.4-.4-.92-.59-1.43-.59-.52 0-1.04.2-1.43.59L10.3 9.45l-7.72 7.72c-.78.78-.78 2.05 0 2.83L4 21.41c.39.39.9.59 1.41.59.51 0 1.02-.2 1.41-.59l7.78-7.78 2.81-2.81c.8-.78.8-2.07 0-2.86zM5.41 20L4 18.59l7.72-7.72 1.47 1.35L5.41 20z\"/>\n",
              "  </svg>\n",
              "      </button>\n",
              "      \n",
              "  <style>\n",
              "    .colab-df-container {\n",
              "      display:flex;\n",
              "      flex-wrap:wrap;\n",
              "      gap: 12px;\n",
              "    }\n",
              "\n",
              "    .colab-df-convert {\n",
              "      background-color: #E8F0FE;\n",
              "      border: none;\n",
              "      border-radius: 50%;\n",
              "      cursor: pointer;\n",
              "      display: none;\n",
              "      fill: #1967D2;\n",
              "      height: 32px;\n",
              "      padding: 0 0 0 0;\n",
              "      width: 32px;\n",
              "    }\n",
              "\n",
              "    .colab-df-convert:hover {\n",
              "      background-color: #E2EBFA;\n",
              "      box-shadow: 0px 1px 2px rgba(60, 64, 67, 0.3), 0px 1px 3px 1px rgba(60, 64, 67, 0.15);\n",
              "      fill: #174EA6;\n",
              "    }\n",
              "\n",
              "    [theme=dark] .colab-df-convert {\n",
              "      background-color: #3B4455;\n",
              "      fill: #D2E3FC;\n",
              "    }\n",
              "\n",
              "    [theme=dark] .colab-df-convert:hover {\n",
              "      background-color: #434B5C;\n",
              "      box-shadow: 0px 1px 3px 1px rgba(0, 0, 0, 0.15);\n",
              "      filter: drop-shadow(0px 1px 2px rgba(0, 0, 0, 0.3));\n",
              "      fill: #FFFFFF;\n",
              "    }\n",
              "  </style>\n",
              "\n",
              "      <script>\n",
              "        const buttonEl =\n",
              "          document.querySelector('#df-8916ca9d-a292-42e4-b14c-3b84c1133d5e button.colab-df-convert');\n",
              "        buttonEl.style.display =\n",
              "          google.colab.kernel.accessAllowed ? 'block' : 'none';\n",
              "\n",
              "        async function convertToInteractive(key) {\n",
              "          const element = document.querySelector('#df-8916ca9d-a292-42e4-b14c-3b84c1133d5e');\n",
              "          const dataTable =\n",
              "            await google.colab.kernel.invokeFunction('convertToInteractive',\n",
              "                                                     [key], {});\n",
              "          if (!dataTable) return;\n",
              "\n",
              "          const docLinkHtml = 'Like what you see? Visit the ' +\n",
              "            '<a target=\"_blank\" href=https://colab.research.google.com/notebooks/data_table.ipynb>data table notebook</a>'\n",
              "            + ' to learn more about interactive tables.';\n",
              "          element.innerHTML = '';\n",
              "          dataTable['output_type'] = 'display_data';\n",
              "          await google.colab.output.renderOutput(dataTable, element);\n",
              "          const docLink = document.createElement('div');\n",
              "          docLink.innerHTML = docLinkHtml;\n",
              "          element.appendChild(docLink);\n",
              "        }\n",
              "      </script>\n",
              "    </div>\n",
              "  </div>\n",
              "  "
            ]
          },
          "metadata": {},
          "execution_count": 11
        }
      ],
      "source": [
        "train_data[ca.isna()] # Use isna to return a boolean index. Then apply that index to the data frame"
      ]
    },
    {
      "cell_type": "code",
      "execution_count": 12,
      "metadata": {
        "colab": {
          "base_uri": "https://localhost:8080/",
          "height": 112
        },
        "id": "cvA91pXIntxP",
        "outputId": "999e3958-a06d-4020-899d-433d7ebb5f88"
      },
      "outputs": [
        {
          "output_type": "execute_result",
          "data": {
            "text/plain": [
              "     age  sex  cp  trestbps  chol  fbs  restecg  thalach  exang  oldpeak  \\\n",
              "87    53    0   3       128   216    0        2      115      0      0.0   \n",
              "266   52    1   4       128   204    1        0      156      1      1.0   \n",
              "\n",
              "     slope ca thal  num  \n",
              "87       1  0    ?    0  \n",
              "266      2  0    ?    2  "
            ],
            "text/html": [
              "\n",
              "  <div id=\"df-75356a02-8384-4177-9f26-d822e7448760\">\n",
              "    <div class=\"colab-df-container\">\n",
              "      <div>\n",
              "<style scoped>\n",
              "    .dataframe tbody tr th:only-of-type {\n",
              "        vertical-align: middle;\n",
              "    }\n",
              "\n",
              "    .dataframe tbody tr th {\n",
              "        vertical-align: top;\n",
              "    }\n",
              "\n",
              "    .dataframe thead th {\n",
              "        text-align: right;\n",
              "    }\n",
              "</style>\n",
              "<table border=\"1\" class=\"dataframe\">\n",
              "  <thead>\n",
              "    <tr style=\"text-align: right;\">\n",
              "      <th></th>\n",
              "      <th>age</th>\n",
              "      <th>sex</th>\n",
              "      <th>cp</th>\n",
              "      <th>trestbps</th>\n",
              "      <th>chol</th>\n",
              "      <th>fbs</th>\n",
              "      <th>restecg</th>\n",
              "      <th>thalach</th>\n",
              "      <th>exang</th>\n",
              "      <th>oldpeak</th>\n",
              "      <th>slope</th>\n",
              "      <th>ca</th>\n",
              "      <th>thal</th>\n",
              "      <th>num</th>\n",
              "    </tr>\n",
              "  </thead>\n",
              "  <tbody>\n",
              "    <tr>\n",
              "      <th>87</th>\n",
              "      <td>53</td>\n",
              "      <td>0</td>\n",
              "      <td>3</td>\n",
              "      <td>128</td>\n",
              "      <td>216</td>\n",
              "      <td>0</td>\n",
              "      <td>2</td>\n",
              "      <td>115</td>\n",
              "      <td>0</td>\n",
              "      <td>0.0</td>\n",
              "      <td>1</td>\n",
              "      <td>0</td>\n",
              "      <td>?</td>\n",
              "      <td>0</td>\n",
              "    </tr>\n",
              "    <tr>\n",
              "      <th>266</th>\n",
              "      <td>52</td>\n",
              "      <td>1</td>\n",
              "      <td>4</td>\n",
              "      <td>128</td>\n",
              "      <td>204</td>\n",
              "      <td>1</td>\n",
              "      <td>0</td>\n",
              "      <td>156</td>\n",
              "      <td>1</td>\n",
              "      <td>1.0</td>\n",
              "      <td>2</td>\n",
              "      <td>0</td>\n",
              "      <td>?</td>\n",
              "      <td>2</td>\n",
              "    </tr>\n",
              "  </tbody>\n",
              "</table>\n",
              "</div>\n",
              "      <button class=\"colab-df-convert\" onclick=\"convertToInteractive('df-75356a02-8384-4177-9f26-d822e7448760')\"\n",
              "              title=\"Convert this dataframe to an interactive table.\"\n",
              "              style=\"display:none;\">\n",
              "        \n",
              "  <svg xmlns=\"http://www.w3.org/2000/svg\" height=\"24px\"viewBox=\"0 0 24 24\"\n",
              "       width=\"24px\">\n",
              "    <path d=\"M0 0h24v24H0V0z\" fill=\"none\"/>\n",
              "    <path d=\"M18.56 5.44l.94 2.06.94-2.06 2.06-.94-2.06-.94-.94-2.06-.94 2.06-2.06.94zm-11 1L8.5 8.5l.94-2.06 2.06-.94-2.06-.94L8.5 2.5l-.94 2.06-2.06.94zm10 10l.94 2.06.94-2.06 2.06-.94-2.06-.94-.94-2.06-.94 2.06-2.06.94z\"/><path d=\"M17.41 7.96l-1.37-1.37c-.4-.4-.92-.59-1.43-.59-.52 0-1.04.2-1.43.59L10.3 9.45l-7.72 7.72c-.78.78-.78 2.05 0 2.83L4 21.41c.39.39.9.59 1.41.59.51 0 1.02-.2 1.41-.59l7.78-7.78 2.81-2.81c.8-.78.8-2.07 0-2.86zM5.41 20L4 18.59l7.72-7.72 1.47 1.35L5.41 20z\"/>\n",
              "  </svg>\n",
              "      </button>\n",
              "      \n",
              "  <style>\n",
              "    .colab-df-container {\n",
              "      display:flex;\n",
              "      flex-wrap:wrap;\n",
              "      gap: 12px;\n",
              "    }\n",
              "\n",
              "    .colab-df-convert {\n",
              "      background-color: #E8F0FE;\n",
              "      border: none;\n",
              "      border-radius: 50%;\n",
              "      cursor: pointer;\n",
              "      display: none;\n",
              "      fill: #1967D2;\n",
              "      height: 32px;\n",
              "      padding: 0 0 0 0;\n",
              "      width: 32px;\n",
              "    }\n",
              "\n",
              "    .colab-df-convert:hover {\n",
              "      background-color: #E2EBFA;\n",
              "      box-shadow: 0px 1px 2px rgba(60, 64, 67, 0.3), 0px 1px 3px 1px rgba(60, 64, 67, 0.15);\n",
              "      fill: #174EA6;\n",
              "    }\n",
              "\n",
              "    [theme=dark] .colab-df-convert {\n",
              "      background-color: #3B4455;\n",
              "      fill: #D2E3FC;\n",
              "    }\n",
              "\n",
              "    [theme=dark] .colab-df-convert:hover {\n",
              "      background-color: #434B5C;\n",
              "      box-shadow: 0px 1px 3px 1px rgba(0, 0, 0, 0.15);\n",
              "      filter: drop-shadow(0px 1px 2px rgba(0, 0, 0, 0.3));\n",
              "      fill: #FFFFFF;\n",
              "    }\n",
              "  </style>\n",
              "\n",
              "      <script>\n",
              "        const buttonEl =\n",
              "          document.querySelector('#df-75356a02-8384-4177-9f26-d822e7448760 button.colab-df-convert');\n",
              "        buttonEl.style.display =\n",
              "          google.colab.kernel.accessAllowed ? 'block' : 'none';\n",
              "\n",
              "        async function convertToInteractive(key) {\n",
              "          const element = document.querySelector('#df-75356a02-8384-4177-9f26-d822e7448760');\n",
              "          const dataTable =\n",
              "            await google.colab.kernel.invokeFunction('convertToInteractive',\n",
              "                                                     [key], {});\n",
              "          if (!dataTable) return;\n",
              "\n",
              "          const docLinkHtml = 'Like what you see? Visit the ' +\n",
              "            '<a target=\"_blank\" href=https://colab.research.google.com/notebooks/data_table.ipynb>data table notebook</a>'\n",
              "            + ' to learn more about interactive tables.';\n",
              "          element.innerHTML = '';\n",
              "          dataTable['output_type'] = 'display_data';\n",
              "          await google.colab.output.renderOutput(dataTable, element);\n",
              "          const docLink = document.createElement('div');\n",
              "          docLink.innerHTML = docLinkHtml;\n",
              "          element.appendChild(docLink);\n",
              "        }\n",
              "      </script>\n",
              "    </div>\n",
              "  </div>\n",
              "  "
            ]
          },
          "metadata": {},
          "execution_count": 12
        }
      ],
      "source": [
        "thal = pd.to_numeric(train_data.thal, errors='coerce') #Convert to numeric using 'coerce' which fills bad values with 'nan'\n",
        "idx = thal.isna()\n",
        "train_data[idx] # Use isna to return a boolean index. Then apply that index to the data frame"
      ]
    },
    {
      "cell_type": "code",
      "execution_count": 13,
      "metadata": {
        "colab": {
          "base_uri": "https://localhost:8080/"
        },
        "id": "XgCle_eopQB7",
        "outputId": "ef020dd2-0802-407b-d96b-92f783f28e16"
      },
      "outputs": [
        {
          "output_type": "execute_result",
          "data": {
            "text/plain": [
              "age         303\n",
              "sex         303\n",
              "cp          303\n",
              "trestbps    303\n",
              "chol        303\n",
              "fbs         303\n",
              "restecg     303\n",
              "thalach     303\n",
              "exang       303\n",
              "oldpeak     303\n",
              "slope       303\n",
              "ca          303\n",
              "thal        303\n",
              "num         303\n",
              "dtype: int64"
            ]
          },
          "metadata": {},
          "execution_count": 13
        }
      ],
      "source": [
        "train_data.count()"
      ]
    },
    {
      "cell_type": "code",
      "execution_count": 14,
      "metadata": {
        "colab": {
          "base_uri": "https://localhost:8080/"
        },
        "id": "fddsONkboOe2",
        "outputId": "131d61d2-5186-43b8-a133-3b57a25c52ba"
      },
      "outputs": [
        {
          "output_type": "execute_result",
          "data": {
            "text/plain": [
              "age         301\n",
              "sex         301\n",
              "cp          301\n",
              "trestbps    301\n",
              "chol        301\n",
              "fbs         301\n",
              "restecg     301\n",
              "thalach     301\n",
              "exang       301\n",
              "oldpeak     301\n",
              "slope       301\n",
              "ca          301\n",
              "thal        301\n",
              "num         301\n",
              "dtype: int64"
            ]
          },
          "metadata": {},
          "execution_count": 14
        }
      ],
      "source": [
        "update_df = train_data[(train_data.thal != '?')]\n",
        "update_df.count()"
      ]
    },
    {
      "cell_type": "code",
      "execution_count": 15,
      "metadata": {
        "colab": {
          "base_uri": "https://localhost:8080/"
        },
        "id": "CAsl7CK-ptjI",
        "outputId": "6e3f6d68-cc20-4461-f720-e5145d418592"
      },
      "outputs": [
        {
          "output_type": "execute_result",
          "data": {
            "text/plain": [
              "age         297\n",
              "sex         297\n",
              "cp          297\n",
              "trestbps    297\n",
              "chol        297\n",
              "fbs         297\n",
              "restecg     297\n",
              "thalach     297\n",
              "exang       297\n",
              "oldpeak     297\n",
              "slope       297\n",
              "ca          297\n",
              "thal        297\n",
              "num         297\n",
              "dtype: int64"
            ]
          },
          "metadata": {},
          "execution_count": 15
        }
      ],
      "source": [
        "update_df = update_df[(update_df.ca != '?')]\n",
        "update_df.count()"
      ]
    },
    {
      "cell_type": "markdown",
      "source": [
        "#### After cleaning the non-mumeric data, convert the fields to int64 type"
      ],
      "metadata": {
        "id": "9nAxg3mfSGly"
      }
    },
    {
      "cell_type": "code",
      "execution_count": 16,
      "metadata": {
        "id": "VDPfLcJApqWD"
      },
      "outputs": [],
      "source": [
        "update_df.ca = update_df.ca.astype('int64')\n",
        "update_df.thal = update_df.thal.astype('int64')\n"
      ]
    },
    {
      "cell_type": "code",
      "execution_count": 17,
      "metadata": {
        "colab": {
          "base_uri": "https://localhost:8080/"
        },
        "id": "wrmFaWgUp1b2",
        "outputId": "a0c6ced1-b7e4-442a-b1ca-8e44c691dc09"
      },
      "outputs": [
        {
          "output_type": "stream",
          "name": "stdout",
          "text": [
            "<class 'pandas.core.frame.DataFrame'>\n",
            "Int64Index: 297 entries, 0 to 301\n",
            "Data columns (total 14 columns):\n",
            " #   Column    Non-Null Count  Dtype  \n",
            "---  ------    --------------  -----  \n",
            " 0   age       297 non-null    int64  \n",
            " 1   sex       297 non-null    int64  \n",
            " 2   cp        297 non-null    int64  \n",
            " 3   trestbps  297 non-null    int64  \n",
            " 4   chol      297 non-null    int64  \n",
            " 5   fbs       297 non-null    int64  \n",
            " 6   restecg   297 non-null    int64  \n",
            " 7   thalach   297 non-null    int64  \n",
            " 8   exang     297 non-null    int64  \n",
            " 9   oldpeak   297 non-null    float64\n",
            " 10  slope     297 non-null    int64  \n",
            " 11  ca        297 non-null    int64  \n",
            " 12  thal      297 non-null    int64  \n",
            " 13  num       297 non-null    int64  \n",
            "dtypes: float64(1), int64(13)\n",
            "memory usage: 34.8 KB\n"
          ]
        }
      ],
      "source": [
        "update_df.info()"
      ]
    },
    {
      "cell_type": "code",
      "execution_count": 18,
      "metadata": {
        "id": "oEvgtYKbr3ZC"
      },
      "outputs": [],
      "source": [
        "train_data = update_df"
      ]
    },
    {
      "cell_type": "markdown",
      "source": [
        "#### Partition data as X and Y"
      ],
      "metadata": {
        "id": "4h23onguS398"
      }
    },
    {
      "cell_type": "code",
      "source": [
        "X = train_data.drop(columns = ['num'])\n",
        "Y_train = train_data['num']"
      ],
      "metadata": {
        "id": "ml6tk1dVS3TJ"
      },
      "execution_count": 19,
      "outputs": []
    },
    {
      "cell_type": "markdown",
      "source": [
        "#### Scale all columns"
      ],
      "metadata": {
        "id": "SM3UCGuzSh0T"
      }
    },
    {
      "cell_type": "code",
      "execution_count": 20,
      "metadata": {
        "id": "3TQfVeo0tFvM"
      },
      "outputs": [],
      "source": [
        "from sklearn.preprocessing import StandardScaler\n",
        "X_train = pd.DataFrame(data = StandardScaler().fit_transform( X ),\n",
        "                       index = X.index, columns= X.columns)"
      ]
    },
    {
      "cell_type": "code",
      "execution_count": 21,
      "metadata": {
        "colab": {
          "base_uri": "https://localhost:8080/",
          "height": 451
        },
        "id": "ygtdKh3yNhXy",
        "outputId": "e8cc6588-3af1-4275-8714-7d3f11ed8f5f"
      },
      "outputs": [
        {
          "output_type": "execute_result",
          "data": {
            "text/plain": [
              "                age           sex            cp      trestbps          chol  \\\n",
              "count  2.970000e+02  2.970000e+02  2.970000e+02  2.970000e+02  2.970000e+02   \n",
              "mean  -1.226105e-16 -7.177199e-17 -4.037175e-17  4.904420e-16 -1.958777e-16   \n",
              "std    1.001688e+00  1.001688e+00  1.001688e+00  1.001688e+00  1.001688e+00   \n",
              "min   -2.827176e+00 -1.446980e+00 -2.240629e+00 -2.125634e+00 -2.337704e+00   \n",
              "25%   -7.241238e-01 -1.446980e+00 -1.642895e-01 -6.594306e-01 -7.002541e-01   \n",
              "50%    1.613719e-01  6.910947e-01 -1.642895e-01 -9.550637e-02 -8.380217e-02   \n",
              "75%    7.148067e-01  6.910947e-01  8.738802e-01  4.684179e-01  5.519138e-01   \n",
              "max    2.485798e+00  6.910947e-01  8.738802e-01  3.851964e+00  6.099981e+00   \n",
              "\n",
              "                fbs       restecg       thalach         exang     oldpeak  \\\n",
              "count  2.970000e+02  2.970000e+02  2.970000e+02  2.970000e+02  297.000000   \n",
              "mean  -4.186700e-17  4.784800e-17  4.784800e-16 -3.289550e-17    0.000000   \n",
              "std    1.001688e+00  1.001688e+00  1.001688e+00  1.001688e+00    1.001688   \n",
              "min   -4.114503e-01 -1.003419e+00 -3.431849e+00 -6.964194e-01   -0.906712   \n",
              "25%   -4.114503e-01 -1.003419e+00 -7.247694e-01 -6.964194e-01   -0.906712   \n",
              "50%   -4.114503e-01  3.389928e-03  1.484822e-01 -6.964194e-01   -0.219520   \n",
              "75%   -4.114503e-01  1.010199e+00  7.160957e-01  1.435916e+00    0.467672   \n",
              "max    2.430427e+00  1.010199e+00  2.287949e+00  1.435916e+00    4.419026   \n",
              "\n",
              "              slope            ca          thal  \n",
              "count  2.970000e+02  2.970000e+02  2.970000e+02  \n",
              "mean  -1.136390e-16 -7.775299e-17 -1.196200e-16  \n",
              "std    1.001688e+00  1.001688e+00  1.001688e+00  \n",
              "min   -9.765832e-01 -7.219761e-01 -8.942201e-01  \n",
              "25%   -9.765832e-01 -7.219761e-01 -8.942201e-01  \n",
              "50%    6.437811e-01 -7.219761e-01 -8.942201e-01  \n",
              "75%    6.437811e-01  3.448244e-01  1.172577e+00  \n",
              "max    2.264145e+00  2.478425e+00  1.172577e+00  "
            ],
            "text/html": [
              "\n",
              "  <div id=\"df-0a4faf55-2c71-4b5e-9c1a-547bcb829c3b\">\n",
              "    <div class=\"colab-df-container\">\n",
              "      <div>\n",
              "<style scoped>\n",
              "    .dataframe tbody tr th:only-of-type {\n",
              "        vertical-align: middle;\n",
              "    }\n",
              "\n",
              "    .dataframe tbody tr th {\n",
              "        vertical-align: top;\n",
              "    }\n",
              "\n",
              "    .dataframe thead th {\n",
              "        text-align: right;\n",
              "    }\n",
              "</style>\n",
              "<table border=\"1\" class=\"dataframe\">\n",
              "  <thead>\n",
              "    <tr style=\"text-align: right;\">\n",
              "      <th></th>\n",
              "      <th>age</th>\n",
              "      <th>sex</th>\n",
              "      <th>cp</th>\n",
              "      <th>trestbps</th>\n",
              "      <th>chol</th>\n",
              "      <th>fbs</th>\n",
              "      <th>restecg</th>\n",
              "      <th>thalach</th>\n",
              "      <th>exang</th>\n",
              "      <th>oldpeak</th>\n",
              "      <th>slope</th>\n",
              "      <th>ca</th>\n",
              "      <th>thal</th>\n",
              "    </tr>\n",
              "  </thead>\n",
              "  <tbody>\n",
              "    <tr>\n",
              "      <th>count</th>\n",
              "      <td>2.970000e+02</td>\n",
              "      <td>2.970000e+02</td>\n",
              "      <td>2.970000e+02</td>\n",
              "      <td>2.970000e+02</td>\n",
              "      <td>2.970000e+02</td>\n",
              "      <td>2.970000e+02</td>\n",
              "      <td>2.970000e+02</td>\n",
              "      <td>2.970000e+02</td>\n",
              "      <td>2.970000e+02</td>\n",
              "      <td>297.000000</td>\n",
              "      <td>2.970000e+02</td>\n",
              "      <td>2.970000e+02</td>\n",
              "      <td>2.970000e+02</td>\n",
              "    </tr>\n",
              "    <tr>\n",
              "      <th>mean</th>\n",
              "      <td>-1.226105e-16</td>\n",
              "      <td>-7.177199e-17</td>\n",
              "      <td>-4.037175e-17</td>\n",
              "      <td>4.904420e-16</td>\n",
              "      <td>-1.958777e-16</td>\n",
              "      <td>-4.186700e-17</td>\n",
              "      <td>4.784800e-17</td>\n",
              "      <td>4.784800e-16</td>\n",
              "      <td>-3.289550e-17</td>\n",
              "      <td>0.000000</td>\n",
              "      <td>-1.136390e-16</td>\n",
              "      <td>-7.775299e-17</td>\n",
              "      <td>-1.196200e-16</td>\n",
              "    </tr>\n",
              "    <tr>\n",
              "      <th>std</th>\n",
              "      <td>1.001688e+00</td>\n",
              "      <td>1.001688e+00</td>\n",
              "      <td>1.001688e+00</td>\n",
              "      <td>1.001688e+00</td>\n",
              "      <td>1.001688e+00</td>\n",
              "      <td>1.001688e+00</td>\n",
              "      <td>1.001688e+00</td>\n",
              "      <td>1.001688e+00</td>\n",
              "      <td>1.001688e+00</td>\n",
              "      <td>1.001688</td>\n",
              "      <td>1.001688e+00</td>\n",
              "      <td>1.001688e+00</td>\n",
              "      <td>1.001688e+00</td>\n",
              "    </tr>\n",
              "    <tr>\n",
              "      <th>min</th>\n",
              "      <td>-2.827176e+00</td>\n",
              "      <td>-1.446980e+00</td>\n",
              "      <td>-2.240629e+00</td>\n",
              "      <td>-2.125634e+00</td>\n",
              "      <td>-2.337704e+00</td>\n",
              "      <td>-4.114503e-01</td>\n",
              "      <td>-1.003419e+00</td>\n",
              "      <td>-3.431849e+00</td>\n",
              "      <td>-6.964194e-01</td>\n",
              "      <td>-0.906712</td>\n",
              "      <td>-9.765832e-01</td>\n",
              "      <td>-7.219761e-01</td>\n",
              "      <td>-8.942201e-01</td>\n",
              "    </tr>\n",
              "    <tr>\n",
              "      <th>25%</th>\n",
              "      <td>-7.241238e-01</td>\n",
              "      <td>-1.446980e+00</td>\n",
              "      <td>-1.642895e-01</td>\n",
              "      <td>-6.594306e-01</td>\n",
              "      <td>-7.002541e-01</td>\n",
              "      <td>-4.114503e-01</td>\n",
              "      <td>-1.003419e+00</td>\n",
              "      <td>-7.247694e-01</td>\n",
              "      <td>-6.964194e-01</td>\n",
              "      <td>-0.906712</td>\n",
              "      <td>-9.765832e-01</td>\n",
              "      <td>-7.219761e-01</td>\n",
              "      <td>-8.942201e-01</td>\n",
              "    </tr>\n",
              "    <tr>\n",
              "      <th>50%</th>\n",
              "      <td>1.613719e-01</td>\n",
              "      <td>6.910947e-01</td>\n",
              "      <td>-1.642895e-01</td>\n",
              "      <td>-9.550637e-02</td>\n",
              "      <td>-8.380217e-02</td>\n",
              "      <td>-4.114503e-01</td>\n",
              "      <td>3.389928e-03</td>\n",
              "      <td>1.484822e-01</td>\n",
              "      <td>-6.964194e-01</td>\n",
              "      <td>-0.219520</td>\n",
              "      <td>6.437811e-01</td>\n",
              "      <td>-7.219761e-01</td>\n",
              "      <td>-8.942201e-01</td>\n",
              "    </tr>\n",
              "    <tr>\n",
              "      <th>75%</th>\n",
              "      <td>7.148067e-01</td>\n",
              "      <td>6.910947e-01</td>\n",
              "      <td>8.738802e-01</td>\n",
              "      <td>4.684179e-01</td>\n",
              "      <td>5.519138e-01</td>\n",
              "      <td>-4.114503e-01</td>\n",
              "      <td>1.010199e+00</td>\n",
              "      <td>7.160957e-01</td>\n",
              "      <td>1.435916e+00</td>\n",
              "      <td>0.467672</td>\n",
              "      <td>6.437811e-01</td>\n",
              "      <td>3.448244e-01</td>\n",
              "      <td>1.172577e+00</td>\n",
              "    </tr>\n",
              "    <tr>\n",
              "      <th>max</th>\n",
              "      <td>2.485798e+00</td>\n",
              "      <td>6.910947e-01</td>\n",
              "      <td>8.738802e-01</td>\n",
              "      <td>3.851964e+00</td>\n",
              "      <td>6.099981e+00</td>\n",
              "      <td>2.430427e+00</td>\n",
              "      <td>1.010199e+00</td>\n",
              "      <td>2.287949e+00</td>\n",
              "      <td>1.435916e+00</td>\n",
              "      <td>4.419026</td>\n",
              "      <td>2.264145e+00</td>\n",
              "      <td>2.478425e+00</td>\n",
              "      <td>1.172577e+00</td>\n",
              "    </tr>\n",
              "  </tbody>\n",
              "</table>\n",
              "</div>\n",
              "      <button class=\"colab-df-convert\" onclick=\"convertToInteractive('df-0a4faf55-2c71-4b5e-9c1a-547bcb829c3b')\"\n",
              "              title=\"Convert this dataframe to an interactive table.\"\n",
              "              style=\"display:none;\">\n",
              "        \n",
              "  <svg xmlns=\"http://www.w3.org/2000/svg\" height=\"24px\"viewBox=\"0 0 24 24\"\n",
              "       width=\"24px\">\n",
              "    <path d=\"M0 0h24v24H0V0z\" fill=\"none\"/>\n",
              "    <path d=\"M18.56 5.44l.94 2.06.94-2.06 2.06-.94-2.06-.94-.94-2.06-.94 2.06-2.06.94zm-11 1L8.5 8.5l.94-2.06 2.06-.94-2.06-.94L8.5 2.5l-.94 2.06-2.06.94zm10 10l.94 2.06.94-2.06 2.06-.94-2.06-.94-.94-2.06-.94 2.06-2.06.94z\"/><path d=\"M17.41 7.96l-1.37-1.37c-.4-.4-.92-.59-1.43-.59-.52 0-1.04.2-1.43.59L10.3 9.45l-7.72 7.72c-.78.78-.78 2.05 0 2.83L4 21.41c.39.39.9.59 1.41.59.51 0 1.02-.2 1.41-.59l7.78-7.78 2.81-2.81c.8-.78.8-2.07 0-2.86zM5.41 20L4 18.59l7.72-7.72 1.47 1.35L5.41 20z\"/>\n",
              "  </svg>\n",
              "      </button>\n",
              "      \n",
              "  <style>\n",
              "    .colab-df-container {\n",
              "      display:flex;\n",
              "      flex-wrap:wrap;\n",
              "      gap: 12px;\n",
              "    }\n",
              "\n",
              "    .colab-df-convert {\n",
              "      background-color: #E8F0FE;\n",
              "      border: none;\n",
              "      border-radius: 50%;\n",
              "      cursor: pointer;\n",
              "      display: none;\n",
              "      fill: #1967D2;\n",
              "      height: 32px;\n",
              "      padding: 0 0 0 0;\n",
              "      width: 32px;\n",
              "    }\n",
              "\n",
              "    .colab-df-convert:hover {\n",
              "      background-color: #E2EBFA;\n",
              "      box-shadow: 0px 1px 2px rgba(60, 64, 67, 0.3), 0px 1px 3px 1px rgba(60, 64, 67, 0.15);\n",
              "      fill: #174EA6;\n",
              "    }\n",
              "\n",
              "    [theme=dark] .colab-df-convert {\n",
              "      background-color: #3B4455;\n",
              "      fill: #D2E3FC;\n",
              "    }\n",
              "\n",
              "    [theme=dark] .colab-df-convert:hover {\n",
              "      background-color: #434B5C;\n",
              "      box-shadow: 0px 1px 3px 1px rgba(0, 0, 0, 0.15);\n",
              "      filter: drop-shadow(0px 1px 2px rgba(0, 0, 0, 0.3));\n",
              "      fill: #FFFFFF;\n",
              "    }\n",
              "  </style>\n",
              "\n",
              "      <script>\n",
              "        const buttonEl =\n",
              "          document.querySelector('#df-0a4faf55-2c71-4b5e-9c1a-547bcb829c3b button.colab-df-convert');\n",
              "        buttonEl.style.display =\n",
              "          google.colab.kernel.accessAllowed ? 'block' : 'none';\n",
              "\n",
              "        async function convertToInteractive(key) {\n",
              "          const element = document.querySelector('#df-0a4faf55-2c71-4b5e-9c1a-547bcb829c3b');\n",
              "          const dataTable =\n",
              "            await google.colab.kernel.invokeFunction('convertToInteractive',\n",
              "                                                     [key], {});\n",
              "          if (!dataTable) return;\n",
              "\n",
              "          const docLinkHtml = 'Like what you see? Visit the ' +\n",
              "            '<a target=\"_blank\" href=https://colab.research.google.com/notebooks/data_table.ipynb>data table notebook</a>'\n",
              "            + ' to learn more about interactive tables.';\n",
              "          element.innerHTML = '';\n",
              "          dataTable['output_type'] = 'display_data';\n",
              "          await google.colab.output.renderOutput(dataTable, element);\n",
              "          const docLink = document.createElement('div');\n",
              "          docLink.innerHTML = docLinkHtml;\n",
              "          element.appendChild(docLink);\n",
              "        }\n",
              "      </script>\n",
              "    </div>\n",
              "  </div>\n",
              "  "
            ]
          },
          "metadata": {},
          "execution_count": 21
        }
      ],
      "source": [
        "X_train.describe()"
      ]
    },
    {
      "cell_type": "code",
      "execution_count": 22,
      "metadata": {
        "colab": {
          "base_uri": "https://localhost:8080/"
        },
        "id": "hSGEMPMusgVk",
        "outputId": "bde66f06-ca18-4ad2-f87d-4f7a4343c7f2"
      },
      "outputs": [
        {
          "output_type": "stream",
          "name": "stdout",
          "text": [
            "<class 'pandas.core.frame.DataFrame'>\n",
            "Int64Index: 297 entries, 0 to 301\n",
            "Data columns (total 13 columns):\n",
            " #   Column    Non-Null Count  Dtype  \n",
            "---  ------    --------------  -----  \n",
            " 0   age       297 non-null    float64\n",
            " 1   sex       297 non-null    float64\n",
            " 2   cp        297 non-null    float64\n",
            " 3   trestbps  297 non-null    float64\n",
            " 4   chol      297 non-null    float64\n",
            " 5   fbs       297 non-null    float64\n",
            " 6   restecg   297 non-null    float64\n",
            " 7   thalach   297 non-null    float64\n",
            " 8   exang     297 non-null    float64\n",
            " 9   oldpeak   297 non-null    float64\n",
            " 10  slope     297 non-null    float64\n",
            " 11  ca        297 non-null    float64\n",
            " 12  thal      297 non-null    float64\n",
            "dtypes: float64(13)\n",
            "memory usage: 32.5 KB\n"
          ]
        }
      ],
      "source": [
        "X_train.info()"
      ]
    },
    {
      "cell_type": "markdown",
      "metadata": {
        "id": "ozzPXGvnuVQO"
      },
      "source": [
        "### For each of the algorithms, use Scikit-Learn's cross-validation feature to measure the performance and print out mean and std for each algoritm:\n",
        "\n",
        "1. Stochastic Gradient Descent (SGD)\n",
        "2. LogisticRegression\n",
        "3. Support Vector Machine (kernel='linear' parameter)\n",
        "4. Support Vector Machine (kernel = 'rbf' parameter)\n",
        "5. DecisionTreeClassifier\n",
        "6. RandomForestClassifier\n",
        "7. ExtraTreesClassifier\n",
        "8. AdaBoostClassifier\n",
        "9. GradientBoostingClassifier\n",
        "10. XGBoost\n",
        "-- You can import XGBoost library as follows:  \"from xgboost import XGBClassifier\"\n",
        "\n",
        "Parameters:\n",
        "- Set the scoring parameter of cross-validation to 'accuracy'\n",
        "- Use the default cv = 5 parameter of cross-validation\n",
        "- Use random_state = 42 for initializing model algorithms\n",
        "- Use the kernel parameter indicated above for SVM algorithms\n",
        "- For others, use the default parameters (no need to specify explicitly)\n"
      ]
    },
    {
      "cell_type": "code",
      "execution_count": 23,
      "metadata": {
        "colab": {
          "base_uri": "https://localhost:8080/"
        },
        "id": "bcdX8i3buO7Z",
        "outputId": "33e62d31-bfd4-4bf0-ced8-42a92095fd19"
      },
      "outputs": [
        {
          "output_type": "execute_result",
          "data": {
            "text/plain": [
              "array([0, 2, 1, 0, 0, 0, 3, 0, 2, 1, 0, 0, 2, 0, 0, 0, 1, 0, 0, 0, 0, 0,\n",
              "       1, 3, 4, 0, 0, 0, 0, 3, 0, 2, 1, 0, 0, 0, 3, 1, 3, 0, 4, 0, 0, 0,\n",
              "       1, 4, 0, 4, 0, 0, 0, 0, 2, 0, 1, 1, 1, 1, 0, 0, 2, 0, 1, 0, 2, 2,\n",
              "       1, 0, 2, 1, 0, 3, 1, 1, 1, 0, 1, 0, 0, 3, 0, 0, 0, 3, 0, 0, 0, 0,\n",
              "       0, 0, 3, 0, 0, 0, 1, 2, 3, 0, 0, 0, 0, 0, 0, 3, 0, 2, 1, 2, 3, 1,\n",
              "       1, 0, 2, 2, 0, 0, 0, 3, 2, 3, 4, 0, 3, 1, 0, 3, 3, 0, 0, 0, 0, 0,\n",
              "       0, 0, 0, 4, 3, 1, 0, 0, 1, 0, 1, 0, 1, 4, 0, 0, 0, 0, 0, 0, 4, 3,\n",
              "       1, 1, 1, 2, 0, 0, 4, 0, 0, 0, 0, 0, 1, 0, 3, 0, 1, 0, 4, 1, 0, 1,\n",
              "       0, 0, 3, 2, 0, 0, 1, 0, 0, 2, 1, 2, 0, 3, 2, 0, 3, 0, 0, 0, 1, 0,\n",
              "       0, 0, 0, 0, 3, 3, 3, 0, 1, 0, 4, 0, 3, 1, 0, 0, 0, 0, 0, 0, 0, 0,\n",
              "       3, 1, 0, 0, 0, 3, 2, 0, 2, 1, 0, 0, 3, 2, 1, 0, 0, 0, 0, 0, 2, 0,\n",
              "       2, 2, 1, 3, 0, 0, 1, 0, 0, 0, 0, 0, 0, 0, 1, 0, 3, 0, 0, 4, 2, 2,\n",
              "       1, 0, 1, 0, 2, 0, 1, 0, 0, 0, 1, 0, 2, 0, 3, 0, 2, 4, 2, 0, 0, 1,\n",
              "       0, 2, 2, 1, 0, 3, 1, 1, 2, 3, 1])"
            ]
          },
          "metadata": {},
          "execution_count": 23
        }
      ],
      "source": [
        "from sklearn import preprocessing\n",
        "from sklearn import utils\n",
        "\n",
        "#convert y values to categorical values\n",
        "label_encoder = preprocessing.LabelEncoder()\n",
        "Y_train = label_encoder.fit_transform(Y_train)\n",
        "Y_train"
      ]
    },
    {
      "cell_type": "code",
      "execution_count": 24,
      "metadata": {
        "colab": {
          "base_uri": "https://localhost:8080/"
        },
        "id": "PpEU_sKXuLdL",
        "outputId": "67ef84d7-7db3-4668-c5ea-3041b0c24c1c"
      },
      "outputs": [
        {
          "output_type": "stream",
          "name": "stdout",
          "text": [
            "<class 'pandas.core.frame.DataFrame'>\n",
            "Int64Index: 297 entries, 0 to 301\n",
            "Data columns (total 13 columns):\n",
            " #   Column    Non-Null Count  Dtype  \n",
            "---  ------    --------------  -----  \n",
            " 0   age       297 non-null    float64\n",
            " 1   sex       297 non-null    float64\n",
            " 2   cp        297 non-null    float64\n",
            " 3   trestbps  297 non-null    float64\n",
            " 4   chol      297 non-null    float64\n",
            " 5   fbs       297 non-null    float64\n",
            " 6   restecg   297 non-null    float64\n",
            " 7   thalach   297 non-null    float64\n",
            " 8   exang     297 non-null    float64\n",
            " 9   oldpeak   297 non-null    float64\n",
            " 10  slope     297 non-null    float64\n",
            " 11  ca        297 non-null    float64\n",
            " 12  thal      297 non-null    float64\n",
            "dtypes: float64(13)\n",
            "memory usage: 32.5 KB\n"
          ]
        }
      ],
      "source": [
        "X_train.info()"
      ]
    },
    {
      "cell_type": "code",
      "execution_count": 25,
      "metadata": {
        "id": "RfTMfTvZulhK"
      },
      "outputs": [],
      "source": [
        "random_seed = 42\n",
        "scoring_parameter = \"accuracy\"\n",
        "k_fold = 5\n",
        "from sklearn.model_selection import cross_val_score"
      ]
    },
    {
      "cell_type": "code",
      "execution_count": 26,
      "metadata": {
        "colab": {
          "base_uri": "https://localhost:8080/"
        },
        "id": "wam6an3CX_E5",
        "outputId": "1d6f55e9-3065-47a9-aa8c-878cc1c79184"
      },
      "outputs": [
        {
          "output_type": "stream",
          "name": "stdout",
          "text": [
            "SGD_Classifier: \n",
            "- mean():  0.5787005649717514\n",
            "- std():  0.056292737460961466\n"
          ]
        }
      ],
      "source": [
        "from sklearn.linear_model import SGDClassifier\n",
        "SGD_classifier = SGDClassifier(random_state = random_seed)\n",
        "\n",
        "SGD_classifier_scores = cross_val_score(SGD_classifier, X_train, Y_train, scoring=scoring_parameter)\n",
        "\n",
        "print(\"SGD_Classifier: \")\n",
        "print(\"- mean(): \" , SGD_classifier_scores.mean())\n",
        "print(\"- std(): \" , SGD_classifier_scores.std())"
      ]
    },
    {
      "cell_type": "code",
      "execution_count": 27,
      "metadata": {
        "colab": {
          "base_uri": "https://localhost:8080/"
        },
        "id": "jK9hoUVgYGvB",
        "outputId": "866b37c9-c3b7-4e6d-ac25-2955faec7bd0"
      },
      "outputs": [
        {
          "output_type": "stream",
          "name": "stdout",
          "text": [
            "Logistic_Regression: \n",
            "- mean():  0.5854802259887005\n",
            "- std():  0.061477026717872675\n"
          ]
        }
      ],
      "source": [
        "from sklearn.linear_model import LogisticRegression\n",
        "logistic_regression = LogisticRegression(random_state = random_seed)\n",
        "\n",
        "logistic_regression_scores = cross_val_score(logistic_regression, X_train, Y_train, scoring=scoring_parameter, cv=k_fold)\n",
        "\n",
        "print(\"Logistic_Regression: \")\n",
        "print(\"- mean(): \" , logistic_regression_scores.mean())\n",
        "print(\"- std(): \" , logistic_regression_scores.std())"
      ]
    },
    {
      "cell_type": "code",
      "execution_count": 28,
      "metadata": {
        "colab": {
          "base_uri": "https://localhost:8080/"
        },
        "id": "6y0o-aqoYRZc",
        "outputId": "6f7a408b-0703-4a95-aa8d-a32921186257"
      },
      "outputs": [
        {
          "output_type": "stream",
          "name": "stdout",
          "text": [
            "SVC kernel = linear: \n",
            "- mean():  0.5719774011299434\n",
            "- std():  0.05374880069285337\n"
          ]
        }
      ],
      "source": [
        "from sklearn.svm import SVC\n",
        "SVC_linear = SVC(random_state = random_seed, kernel = 'linear')\n",
        "\n",
        "SVC_linear_scores = cross_val_score(SVC_linear,\n",
        "                                    X_train,\n",
        "                                    Y_train,\n",
        "                                    scoring=scoring_parameter,\n",
        "                                    cv=k_fold)\n",
        "\n",
        "print(\"SVC kernel = linear: \")\n",
        "print(\"- mean(): \" , SVC_linear_scores.mean())\n",
        "print(\"- std(): \" , SVC_linear_scores.std())"
      ]
    },
    {
      "cell_type": "code",
      "execution_count": 29,
      "metadata": {
        "colab": {
          "base_uri": "https://localhost:8080/"
        },
        "id": "FdKgKNGHYX7T",
        "outputId": "2b63bc65-40a0-4178-8195-a083729877c7"
      },
      "outputs": [
        {
          "output_type": "stream",
          "name": "stdout",
          "text": [
            "SVC kernel = rbf: \n",
            "- mean():  0.5587570621468926\n",
            "- std():  0.02930019978913075\n"
          ]
        }
      ],
      "source": [
        "from sklearn.svm import SVC\n",
        "SVC_rbf = SVC(random_state = random_seed, kernel = 'rbf')\n",
        "\n",
        "SVC_rbf_scores = cross_val_score(SVC_rbf,\n",
        "                                    X_train,\n",
        "                                    Y_train,\n",
        "                                    scoring=scoring_parameter,\n",
        "                                    cv=k_fold)\n",
        "\n",
        "print(\"SVC kernel = rbf: \")\n",
        "print(\"- mean(): \" , SVC_rbf_scores.mean())\n",
        "print(\"- std(): \" , SVC_rbf_scores.std())"
      ]
    },
    {
      "cell_type": "code",
      "execution_count": 30,
      "metadata": {
        "colab": {
          "base_uri": "https://localhost:8080/"
        },
        "id": "5M3wDyfXYdN2",
        "outputId": "4f3ebe7f-1bf4-45a0-aee2-26a6b4aab40e"
      },
      "outputs": [
        {
          "output_type": "stream",
          "name": "stdout",
          "text": [
            "decision_tree: \n",
            "- mean():  0.4848022598870057\n",
            "- std():  0.037826282762864316\n"
          ]
        }
      ],
      "source": [
        "from sklearn.tree import DecisionTreeClassifier\n",
        "decision_tree = DecisionTreeClassifier(random_state = random_seed)\n",
        "\n",
        "decision_tree_scores = cross_val_score(decision_tree,\n",
        "                                       X_train,\n",
        "                                       Y_train,\n",
        "                                       scoring=scoring_parameter,\n",
        "                                       cv=k_fold)\n",
        "\n",
        "print(\"decision_tree: \")\n",
        "print(\"- mean(): \" , decision_tree_scores.mean())\n",
        "print(\"- std(): \" , decision_tree_scores.std())"
      ]
    },
    {
      "cell_type": "code",
      "execution_count": 31,
      "metadata": {
        "colab": {
          "base_uri": "https://localhost:8080/"
        },
        "id": "P6AWlOonYh0L",
        "outputId": "18cdcbe9-24f0-4367-de53-14a6850e1549"
      },
      "outputs": [
        {
          "output_type": "stream",
          "name": "stdout",
          "text": [
            "random_forest_classifier: \n",
            "- mean():  0.5755367231638417\n",
            "- std():  0.027984984779427555\n"
          ]
        }
      ],
      "source": [
        "from sklearn.ensemble import RandomForestClassifier\n",
        "random_forest_classifier = RandomForestClassifier(random_state = random_seed)\n",
        "\n",
        "random_forest_classifier_scores = cross_val_score(random_forest_classifier,\n",
        "                                       X_train,\n",
        "                                       Y_train,\n",
        "                                       scoring=scoring_parameter,\n",
        "                                       cv=k_fold)\n",
        "\n",
        "print(\"random_forest_classifier: \")\n",
        "print(\"- mean(): \" , random_forest_classifier_scores.mean())\n",
        "print(\"- std(): \" , random_forest_classifier_scores.std())"
      ]
    },
    {
      "cell_type": "code",
      "execution_count": 32,
      "metadata": {
        "colab": {
          "base_uri": "https://localhost:8080/"
        },
        "id": "XlvnLPU1YlKx",
        "outputId": "623f1c0c-afa5-40cd-8b75-3c1451ae0ffc"
      },
      "outputs": [
        {
          "output_type": "stream",
          "name": "stdout",
          "text": [
            "extra_trees_classifier: \n",
            "- mean():  0.5654237288135593\n",
            "- std():  0.03523431278195498\n"
          ]
        }
      ],
      "source": [
        "from sklearn.ensemble import ExtraTreesClassifier\n",
        "extra_trees_classifier = ExtraTreesClassifier(random_state = random_seed)\n",
        "\n",
        "extra_trees_classifier_scores = cross_val_score(extra_trees_classifier,\n",
        "                                       X_train,\n",
        "                                       Y_train,\n",
        "                                       scoring=scoring_parameter,\n",
        "                                       cv=k_fold)\n",
        "\n",
        "print(\"extra_trees_classifier: \")\n",
        "print(\"- mean(): \" , extra_trees_classifier_scores.mean())\n",
        "print(\"- std(): \" , extra_trees_classifier_scores.std())"
      ]
    },
    {
      "cell_type": "code",
      "execution_count": 33,
      "metadata": {
        "colab": {
          "base_uri": "https://localhost:8080/"
        },
        "id": "VUld2qs1Yo38",
        "outputId": "9aa1e02f-15e5-422c-a658-923951657705"
      },
      "outputs": [
        {
          "output_type": "stream",
          "name": "stdout",
          "text": [
            "ada_boost_classifier: \n",
            "- mean():  0.5488135593220339\n",
            "- std():  0.034472259642510716\n"
          ]
        }
      ],
      "source": [
        "from sklearn.ensemble import AdaBoostClassifier\n",
        "ada_boost_classifier = AdaBoostClassifier(random_state = random_seed)\n",
        "\n",
        "ada_boost_classifier_scores = cross_val_score(ada_boost_classifier,\n",
        "                                       X_train,\n",
        "                                       Y_train,\n",
        "                                       scoring=scoring_parameter,\n",
        "                                       cv=k_fold)\n",
        "\n",
        "print(\"ada_boost_classifier: \")\n",
        "print(\"- mean(): \" , ada_boost_classifier_scores.mean())\n",
        "print(\"- std(): \" , ada_boost_classifier_scores.std())"
      ]
    },
    {
      "cell_type": "code",
      "execution_count": 34,
      "metadata": {
        "colab": {
          "base_uri": "https://localhost:8080/"
        },
        "id": "Zh-9eXCCYtbb",
        "outputId": "3e44bde6-22a2-494a-953e-8356e0b3e458"
      },
      "outputs": [
        {
          "output_type": "stream",
          "name": "stdout",
          "text": [
            "gradient_boosting_classifier: \n",
            "- mean():  0.5586440677966101\n",
            "- std():  0.037477093560393616\n"
          ]
        }
      ],
      "source": [
        "from sklearn.ensemble import GradientBoostingClassifier\n",
        "gradient_boosting_classifier = GradientBoostingClassifier(random_state = random_seed)\n",
        "\n",
        "gradient_boosting_classifier_scores = cross_val_score(gradient_boosting_classifier,\n",
        "                                       X_train,\n",
        "                                       Y_train,\n",
        "                                       scoring=scoring_parameter,\n",
        "                                       cv=k_fold)\n",
        "\n",
        "print(\"gradient_boosting_classifier: \")\n",
        "print(\"- mean(): \" , gradient_boosting_classifier_scores.mean())\n",
        "print(\"- std(): \" , gradient_boosting_classifier_scores.std())"
      ]
    },
    {
      "cell_type": "code",
      "execution_count": 35,
      "metadata": {
        "colab": {
          "base_uri": "https://localhost:8080/"
        },
        "id": "xyeYVs-fY_tZ",
        "outputId": "971cd4fc-35f2-483b-a2a3-6d6573d6743b"
      },
      "outputs": [
        {
          "output_type": "stream",
          "name": "stdout",
          "text": [
            "XGB_classifier: \n",
            "- mean():  0.5722598870056497\n",
            "- std():  0.024819177530746094\n"
          ]
        }
      ],
      "source": [
        "from xgboost import XGBClassifier\n",
        "\n",
        "XGB_classifier = XGBClassifier(random_state = random_seed)\n",
        "\n",
        "XGB_classifier_scores = cross_val_score(XGB_classifier,\n",
        "                                       X_train,\n",
        "                                       Y_train,\n",
        "                                       scoring=scoring_parameter,\n",
        "                                       cv=k_fold)\n",
        "\n",
        "print(\"XGB_classifier: \")\n",
        "print(\"- mean(): \" , XGB_classifier_scores.mean())\n",
        "print(\"- std(): \" , XGB_classifier_scores.std())"
      ]
    },
    {
      "cell_type": "markdown",
      "metadata": {
        "id": "98-GIi7vumU6"
      },
      "source": [
        "### Select the top best performing classifiers. List them along with their mean and std scores. For these top  performing classifiers, find the best hyperparameters using GridSearchCV.\n",
        "\n",
        "- Use estimator.get_params().keys() or the API description of the classifiers to find out which hyperparameters you can use.\n",
        "- Use the same scoring parameter ('accuracy') and use cv = 10 this time.\n",
        "- Print out the best_estimator_ and best_score_ results of your Grid Search\n",
        "- Use the following hyparparameter options if they fit for your top 3 classifiers:\n",
        "\n",
        "n_estimators = [100, 200, 300, 400, 500]\n",
        "\n",
        "learning_rate = [0.3, 0.1, 0.05]\n",
        "\n",
        "max_features =  [1, 0.7, 0.5, 0.4, 0.3]\n",
        "\n",
        "subsample = [1, 0.5, 0.3]\n",
        "\n",
        "max_samples = [1, 0.5, 0.3, 0.2]\n",
        "\n",
        "bootstrap = [True,False]"
      ]
    },
    {
      "cell_type": "code",
      "execution_count": 36,
      "metadata": {
        "id": "f6q7KUMlZRc0"
      },
      "outputs": [],
      "source": [
        "n_estimators = [100, 200, 300, 400, 500]\n",
        "learning_rate = [0.3, 0.1, 0.05]\n",
        "max_features =  [1, 0.7, 0.5, 0.4, 0.3]\n",
        "subsample = [1, 0.5, 0.3]\n",
        "max_samples = [1, 0.5, 0.3, 0.2]\n",
        "bootstrap = [True,False]\n",
        "\n",
        "k_fold = 10\n",
        "\n",
        "from sklearn.model_selection import GridSearchCV"
      ]
    },
    {
      "cell_type": "code",
      "source": [
        "# ada_boost_classifier_scores:\n",
        "\n",
        "ada_grid_param = {'n_estimators' : n_estimators,\n",
        "              'learning_rate' : learning_rate\n",
        "              }\n",
        "\n",
        "ada_GridSearchCV = GridSearchCV(ada_boost_classifier,\n",
        "                    param_grid = ada_grid_param,\n",
        "                    cv = k_fold,\n",
        "                    scoring = scoring_parameter,\n",
        "                    verbose = 1)\n",
        "\n",
        "ada_GridSearchCV.fit(X_train, Y_train)\n",
        "\n",
        "ada_best_estimator = ada_GridSearchCV.best_estimator_\n",
        "ada_best_score = ada_GridSearchCV.best_score_"
      ],
      "metadata": {
        "colab": {
          "base_uri": "https://localhost:8080/"
        },
        "id": "tbZzqi5JPIKP",
        "outputId": "851edaec-fcf0-4961-dfc6-7ccf836f519c"
      },
      "execution_count": 37,
      "outputs": [
        {
          "output_type": "stream",
          "name": "stdout",
          "text": [
            "Fitting 10 folds for each of 15 candidates, totalling 150 fits\n"
          ]
        }
      ]
    },
    {
      "cell_type": "code",
      "source": [
        "ada_best_score"
      ],
      "metadata": {
        "colab": {
          "base_uri": "https://localhost:8080/"
        },
        "id": "f9dyJ-k7PXKf",
        "outputId": "5e245db6-2359-4ce2-d55b-cd3251ecbe8d"
      },
      "execution_count": 38,
      "outputs": [
        {
          "output_type": "execute_result",
          "data": {
            "text/plain": [
              "0.5726436781609195"
            ]
          },
          "metadata": {},
          "execution_count": 38
        }
      ]
    },
    {
      "cell_type": "code",
      "source": [
        "ada_best_estimator"
      ],
      "metadata": {
        "colab": {
          "base_uri": "https://localhost:8080/",
          "height": 75
        },
        "id": "ZzH5m93oPZrZ",
        "outputId": "afb5f5a7-b947-402e-aa1e-c21ad18f8d37"
      },
      "execution_count": 39,
      "outputs": [
        {
          "output_type": "execute_result",
          "data": {
            "text/plain": [
              "AdaBoostClassifier(learning_rate=0.05, n_estimators=200, random_state=42)"
            ],
            "text/html": [
              "<style>#sk-container-id-1 {color: black;background-color: white;}#sk-container-id-1 pre{padding: 0;}#sk-container-id-1 div.sk-toggleable {background-color: white;}#sk-container-id-1 label.sk-toggleable__label {cursor: pointer;display: block;width: 100%;margin-bottom: 0;padding: 0.3em;box-sizing: border-box;text-align: center;}#sk-container-id-1 label.sk-toggleable__label-arrow:before {content: \"▸\";float: left;margin-right: 0.25em;color: #696969;}#sk-container-id-1 label.sk-toggleable__label-arrow:hover:before {color: black;}#sk-container-id-1 div.sk-estimator:hover label.sk-toggleable__label-arrow:before {color: black;}#sk-container-id-1 div.sk-toggleable__content {max-height: 0;max-width: 0;overflow: hidden;text-align: left;background-color: #f0f8ff;}#sk-container-id-1 div.sk-toggleable__content pre {margin: 0.2em;color: black;border-radius: 0.25em;background-color: #f0f8ff;}#sk-container-id-1 input.sk-toggleable__control:checked~div.sk-toggleable__content {max-height: 200px;max-width: 100%;overflow: auto;}#sk-container-id-1 input.sk-toggleable__control:checked~label.sk-toggleable__label-arrow:before {content: \"▾\";}#sk-container-id-1 div.sk-estimator input.sk-toggleable__control:checked~label.sk-toggleable__label {background-color: #d4ebff;}#sk-container-id-1 div.sk-label input.sk-toggleable__control:checked~label.sk-toggleable__label {background-color: #d4ebff;}#sk-container-id-1 input.sk-hidden--visually {border: 0;clip: rect(1px 1px 1px 1px);clip: rect(1px, 1px, 1px, 1px);height: 1px;margin: -1px;overflow: hidden;padding: 0;position: absolute;width: 1px;}#sk-container-id-1 div.sk-estimator {font-family: monospace;background-color: #f0f8ff;border: 1px dotted black;border-radius: 0.25em;box-sizing: border-box;margin-bottom: 0.5em;}#sk-container-id-1 div.sk-estimator:hover {background-color: #d4ebff;}#sk-container-id-1 div.sk-parallel-item::after {content: \"\";width: 100%;border-bottom: 1px solid gray;flex-grow: 1;}#sk-container-id-1 div.sk-label:hover label.sk-toggleable__label {background-color: #d4ebff;}#sk-container-id-1 div.sk-serial::before {content: \"\";position: absolute;border-left: 1px solid gray;box-sizing: border-box;top: 0;bottom: 0;left: 50%;z-index: 0;}#sk-container-id-1 div.sk-serial {display: flex;flex-direction: column;align-items: center;background-color: white;padding-right: 0.2em;padding-left: 0.2em;position: relative;}#sk-container-id-1 div.sk-item {position: relative;z-index: 1;}#sk-container-id-1 div.sk-parallel {display: flex;align-items: stretch;justify-content: center;background-color: white;position: relative;}#sk-container-id-1 div.sk-item::before, #sk-container-id-1 div.sk-parallel-item::before {content: \"\";position: absolute;border-left: 1px solid gray;box-sizing: border-box;top: 0;bottom: 0;left: 50%;z-index: -1;}#sk-container-id-1 div.sk-parallel-item {display: flex;flex-direction: column;z-index: 1;position: relative;background-color: white;}#sk-container-id-1 div.sk-parallel-item:first-child::after {align-self: flex-end;width: 50%;}#sk-container-id-1 div.sk-parallel-item:last-child::after {align-self: flex-start;width: 50%;}#sk-container-id-1 div.sk-parallel-item:only-child::after {width: 0;}#sk-container-id-1 div.sk-dashed-wrapped {border: 1px dashed gray;margin: 0 0.4em 0.5em 0.4em;box-sizing: border-box;padding-bottom: 0.4em;background-color: white;}#sk-container-id-1 div.sk-label label {font-family: monospace;font-weight: bold;display: inline-block;line-height: 1.2em;}#sk-container-id-1 div.sk-label-container {text-align: center;}#sk-container-id-1 div.sk-container {/* jupyter's `normalize.less` sets `[hidden] { display: none; }` but bootstrap.min.css set `[hidden] { display: none !important; }` so we also need the `!important` here to be able to override the default hidden behavior on the sphinx rendered scikit-learn.org. See: https://github.com/scikit-learn/scikit-learn/issues/21755 */display: inline-block !important;position: relative;}#sk-container-id-1 div.sk-text-repr-fallback {display: none;}</style><div id=\"sk-container-id-1\" class=\"sk-top-container\"><div class=\"sk-text-repr-fallback\"><pre>AdaBoostClassifier(learning_rate=0.05, n_estimators=200, random_state=42)</pre><b>In a Jupyter environment, please rerun this cell to show the HTML representation or trust the notebook. <br />On GitHub, the HTML representation is unable to render, please try loading this page with nbviewer.org.</b></div><div class=\"sk-container\" hidden><div class=\"sk-item\"><div class=\"sk-estimator sk-toggleable\"><input class=\"sk-toggleable__control sk-hidden--visually\" id=\"sk-estimator-id-1\" type=\"checkbox\" checked><label for=\"sk-estimator-id-1\" class=\"sk-toggleable__label sk-toggleable__label-arrow\">AdaBoostClassifier</label><div class=\"sk-toggleable__content\"><pre>AdaBoostClassifier(learning_rate=0.05, n_estimators=200, random_state=42)</pre></div></div></div></div></div>"
            ]
          },
          "metadata": {},
          "execution_count": 39
        }
      ]
    },
    {
      "cell_type": "code",
      "execution_count": 40,
      "metadata": {
        "colab": {
          "base_uri": "https://localhost:8080/"
        },
        "id": "7E306FlKx68C",
        "outputId": "5f9b6f0b-e35d-4b70-b8c0-7627bbce0ef2"
      },
      "outputs": [
        {
          "output_type": "stream",
          "name": "stdout",
          "text": [
            "Fitting 10 folds for each of 200 candidates, totalling 2000 fits\n"
          ]
        },
        {
          "output_type": "stream",
          "name": "stderr",
          "text": [
            "/usr/local/lib/python3.10/dist-packages/sklearn/model_selection/_validation.py:378: FitFailedWarning: \n",
            "1000 fits failed out of a total of 2000.\n",
            "The score on these train-test partitions for these parameters will be set to nan.\n",
            "If these failures are not expected, you can try to debug them by setting error_score='raise'.\n",
            "\n",
            "Below are more details about the failures:\n",
            "--------------------------------------------------------------------------------\n",
            "1000 fits failed with the following error:\n",
            "Traceback (most recent call last):\n",
            "  File \"/usr/local/lib/python3.10/dist-packages/sklearn/model_selection/_validation.py\", line 686, in _fit_and_score\n",
            "    estimator.fit(X_train, y_train, **fit_params)\n",
            "  File \"/usr/local/lib/python3.10/dist-packages/sklearn/ensemble/_forest.py\", line 397, in fit\n",
            "    raise ValueError(\n",
            "ValueError: `max_sample` cannot be set if `bootstrap=False`. Either switch to `bootstrap=True` or set `max_sample=None`.\n",
            "\n",
            "  warnings.warn(some_fits_failed_message, FitFailedWarning)\n",
            "/usr/local/lib/python3.10/dist-packages/sklearn/model_selection/_search.py:952: UserWarning: One or more of the test scores are non-finite: [0.53885057 0.53885057 0.53885057 0.53885057 0.53885057 0.55885057\n",
            " 0.55885057 0.57229885 0.56218391 0.56218391 0.57574713 0.57229885\n",
            " 0.57229885 0.56896552 0.56551724 0.56218391 0.56563218 0.57574713\n",
            " 0.57218391 0.56885057 0.53885057 0.53885057 0.53885057 0.53885057\n",
            " 0.53885057 0.57218391 0.56563218 0.56908046 0.56563218 0.55885057\n",
            " 0.57229885 0.56218391 0.57574713 0.57218391 0.57229885 0.57954023\n",
            " 0.56574713 0.5791954  0.56574713 0.56896552 0.53885057 0.53885057\n",
            " 0.53885057 0.53885057 0.53885057 0.56195402 0.56206897 0.57229885\n",
            " 0.57241379 0.57574713 0.57563218 0.57574713 0.56551724 0.57908046\n",
            " 0.57563218 0.56218391 0.56885057 0.56551724 0.56229885 0.56896552\n",
            " 0.53885057 0.53885057 0.53885057 0.53885057 0.53885057 0.55528736\n",
            " 0.56206897 0.55206897 0.5554023  0.55206897 0.56873563 0.5554023\n",
            " 0.55862069 0.55862069 0.55195402 0.56229885 0.56896552 0.56896552\n",
            " 0.55885057 0.56885057 0.53885057 0.53885057 0.53885057 0.53885057\n",
            " 0.53885057 0.57563218 0.56206897 0.56563218 0.56563218 0.55885057\n",
            " 0.57586207 0.57229885 0.56574713 0.56241379 0.55908046 0.58586207\n",
            " 0.57241379 0.56574713 0.56908046 0.56908046        nan        nan\n",
            "        nan        nan        nan        nan        nan        nan\n",
            "        nan        nan        nan        nan        nan        nan\n",
            "        nan        nan        nan        nan        nan        nan\n",
            "        nan        nan        nan        nan        nan        nan\n",
            "        nan        nan        nan        nan        nan        nan\n",
            "        nan        nan        nan        nan        nan        nan\n",
            "        nan        nan        nan        nan        nan        nan\n",
            "        nan        nan        nan        nan        nan        nan\n",
            "        nan        nan        nan        nan        nan        nan\n",
            "        nan        nan        nan        nan        nan        nan\n",
            "        nan        nan        nan        nan        nan        nan\n",
            "        nan        nan        nan        nan        nan        nan\n",
            "        nan        nan        nan        nan        nan        nan\n",
            "        nan        nan        nan        nan        nan        nan\n",
            "        nan        nan        nan        nan        nan        nan\n",
            "        nan        nan        nan        nan        nan        nan\n",
            "        nan        nan]\n",
            "  warnings.warn(\n"
          ]
        }
      ],
      "source": [
        "# random_forest_classifier_scores:\n",
        "\n",
        "rfc_grid_param = {'n_estimators' : n_estimators,\n",
        "              'bootstrap' : bootstrap,\n",
        "              'max_features': max_features,\n",
        "              'max_samples' : max_samples\n",
        "              }\n",
        "\n",
        "rfc_GridSearchCV = GridSearchCV(random_forest_classifier,\n",
        "                    param_grid = rfc_grid_param,\n",
        "                    cv = k_fold,\n",
        "                    scoring = scoring_parameter,\n",
        "                    verbose = 1)\n",
        "\n",
        "rfc_GridSearchCV.fit(X_train, Y_train)\n",
        "\n",
        "rfc_best_estimator = rfc_GridSearchCV.best_estimator_\n",
        "rfc_best_score = rfc_GridSearchCV.best_score_"
      ]
    },
    {
      "cell_type": "code",
      "execution_count": 41,
      "metadata": {
        "colab": {
          "base_uri": "https://localhost:8080/"
        },
        "id": "rlNADegQ19VH",
        "outputId": "c9f9bb57-0e7a-4968-dc22-8610dc9bad8f"
      },
      "outputs": [
        {
          "output_type": "execute_result",
          "data": {
            "text/plain": [
              "0.5858620689655172"
            ]
          },
          "metadata": {},
          "execution_count": 41
        }
      ],
      "source": [
        "rfc_best_score"
      ]
    },
    {
      "cell_type": "code",
      "execution_count": 42,
      "metadata": {
        "colab": {
          "base_uri": "https://localhost:8080/",
          "height": 75
        },
        "id": "TwF7b4RE2BHj",
        "outputId": "f9dee194-47cf-4100-970e-f3ed187560d8"
      },
      "outputs": [
        {
          "output_type": "execute_result",
          "data": {
            "text/plain": [
              "RandomForestClassifier(max_features=0.3, max_samples=0.2, random_state=42)"
            ],
            "text/html": [
              "<style>#sk-container-id-2 {color: black;background-color: white;}#sk-container-id-2 pre{padding: 0;}#sk-container-id-2 div.sk-toggleable {background-color: white;}#sk-container-id-2 label.sk-toggleable__label {cursor: pointer;display: block;width: 100%;margin-bottom: 0;padding: 0.3em;box-sizing: border-box;text-align: center;}#sk-container-id-2 label.sk-toggleable__label-arrow:before {content: \"▸\";float: left;margin-right: 0.25em;color: #696969;}#sk-container-id-2 label.sk-toggleable__label-arrow:hover:before {color: black;}#sk-container-id-2 div.sk-estimator:hover label.sk-toggleable__label-arrow:before {color: black;}#sk-container-id-2 div.sk-toggleable__content {max-height: 0;max-width: 0;overflow: hidden;text-align: left;background-color: #f0f8ff;}#sk-container-id-2 div.sk-toggleable__content pre {margin: 0.2em;color: black;border-radius: 0.25em;background-color: #f0f8ff;}#sk-container-id-2 input.sk-toggleable__control:checked~div.sk-toggleable__content {max-height: 200px;max-width: 100%;overflow: auto;}#sk-container-id-2 input.sk-toggleable__control:checked~label.sk-toggleable__label-arrow:before {content: \"▾\";}#sk-container-id-2 div.sk-estimator input.sk-toggleable__control:checked~label.sk-toggleable__label {background-color: #d4ebff;}#sk-container-id-2 div.sk-label input.sk-toggleable__control:checked~label.sk-toggleable__label {background-color: #d4ebff;}#sk-container-id-2 input.sk-hidden--visually {border: 0;clip: rect(1px 1px 1px 1px);clip: rect(1px, 1px, 1px, 1px);height: 1px;margin: -1px;overflow: hidden;padding: 0;position: absolute;width: 1px;}#sk-container-id-2 div.sk-estimator {font-family: monospace;background-color: #f0f8ff;border: 1px dotted black;border-radius: 0.25em;box-sizing: border-box;margin-bottom: 0.5em;}#sk-container-id-2 div.sk-estimator:hover {background-color: #d4ebff;}#sk-container-id-2 div.sk-parallel-item::after {content: \"\";width: 100%;border-bottom: 1px solid gray;flex-grow: 1;}#sk-container-id-2 div.sk-label:hover label.sk-toggleable__label {background-color: #d4ebff;}#sk-container-id-2 div.sk-serial::before {content: \"\";position: absolute;border-left: 1px solid gray;box-sizing: border-box;top: 0;bottom: 0;left: 50%;z-index: 0;}#sk-container-id-2 div.sk-serial {display: flex;flex-direction: column;align-items: center;background-color: white;padding-right: 0.2em;padding-left: 0.2em;position: relative;}#sk-container-id-2 div.sk-item {position: relative;z-index: 1;}#sk-container-id-2 div.sk-parallel {display: flex;align-items: stretch;justify-content: center;background-color: white;position: relative;}#sk-container-id-2 div.sk-item::before, #sk-container-id-2 div.sk-parallel-item::before {content: \"\";position: absolute;border-left: 1px solid gray;box-sizing: border-box;top: 0;bottom: 0;left: 50%;z-index: -1;}#sk-container-id-2 div.sk-parallel-item {display: flex;flex-direction: column;z-index: 1;position: relative;background-color: white;}#sk-container-id-2 div.sk-parallel-item:first-child::after {align-self: flex-end;width: 50%;}#sk-container-id-2 div.sk-parallel-item:last-child::after {align-self: flex-start;width: 50%;}#sk-container-id-2 div.sk-parallel-item:only-child::after {width: 0;}#sk-container-id-2 div.sk-dashed-wrapped {border: 1px dashed gray;margin: 0 0.4em 0.5em 0.4em;box-sizing: border-box;padding-bottom: 0.4em;background-color: white;}#sk-container-id-2 div.sk-label label {font-family: monospace;font-weight: bold;display: inline-block;line-height: 1.2em;}#sk-container-id-2 div.sk-label-container {text-align: center;}#sk-container-id-2 div.sk-container {/* jupyter's `normalize.less` sets `[hidden] { display: none; }` but bootstrap.min.css set `[hidden] { display: none !important; }` so we also need the `!important` here to be able to override the default hidden behavior on the sphinx rendered scikit-learn.org. See: https://github.com/scikit-learn/scikit-learn/issues/21755 */display: inline-block !important;position: relative;}#sk-container-id-2 div.sk-text-repr-fallback {display: none;}</style><div id=\"sk-container-id-2\" class=\"sk-top-container\"><div class=\"sk-text-repr-fallback\"><pre>RandomForestClassifier(max_features=0.3, max_samples=0.2, random_state=42)</pre><b>In a Jupyter environment, please rerun this cell to show the HTML representation or trust the notebook. <br />On GitHub, the HTML representation is unable to render, please try loading this page with nbviewer.org.</b></div><div class=\"sk-container\" hidden><div class=\"sk-item\"><div class=\"sk-estimator sk-toggleable\"><input class=\"sk-toggleable__control sk-hidden--visually\" id=\"sk-estimator-id-2\" type=\"checkbox\" checked><label for=\"sk-estimator-id-2\" class=\"sk-toggleable__label sk-toggleable__label-arrow\">RandomForestClassifier</label><div class=\"sk-toggleable__content\"><pre>RandomForestClassifier(max_features=0.3, max_samples=0.2, random_state=42)</pre></div></div></div></div></div>"
            ]
          },
          "metadata": {},
          "execution_count": 42
        }
      ],
      "source": [
        "rfc_best_estimator"
      ]
    },
    {
      "cell_type": "code",
      "execution_count": 43,
      "metadata": {
        "colab": {
          "base_uri": "https://localhost:8080/"
        },
        "id": "I49e8t9Iu_Ho",
        "outputId": "da09b8e1-3c6a-4f38-8bcf-c6d4c52bc5fb"
      },
      "outputs": [
        {
          "metadata": {
            "tags": null
          },
          "name": "stdout",
          "output_type": "stream",
          "text": [
            "Fitting 10 folds for each of 225 candidates, totalling 2250 fits\n"
          ]
        }
      ],
      "source": [
        "# gradient_boosting_classifier:\n",
        "\n",
        "gbc_grid_param = {'n_estimators' : n_estimators,\n",
        "              'learning_rate' : learning_rate,\n",
        "              'max_features': max_features,\n",
        "              'subsample' : subsample\n",
        "              }\n",
        "\n",
        "gbc_GridSearchCV = GridSearchCV(gradient_boosting_classifier,\n",
        "                    param_grid = gbc_grid_param,\n",
        "                    cv = k_fold,\n",
        "                    scoring = scoring_parameter,\n",
        "                    verbose = 1)\n",
        "\n",
        "gbc_GridSearchCV.fit(X_train, Y_train)\n",
        "\n",
        "gbc_best_estimator = gbc_GridSearchCV.best_estimator_\n",
        "gbc_best_score = gbc_GridSearchCV.best_score_"
      ]
    },
    {
      "cell_type": "code",
      "execution_count": 44,
      "metadata": {
        "id": "i5t89rRdZj7R",
        "colab": {
          "base_uri": "https://localhost:8080/"
        },
        "outputId": "9d5a334a-f615-4e9d-8049-700e83e7edd9"
      },
      "outputs": [
        {
          "data": {
            "text/plain": [
              "0.5893103448275862"
            ]
          },
          "execution_count": 44,
          "metadata": {},
          "output_type": "execute_result"
        }
      ],
      "source": [
        "gbc_best_score"
      ]
    },
    {
      "cell_type": "code",
      "execution_count": 45,
      "metadata": {
        "id": "bh04ufFCZnp_",
        "colab": {
          "base_uri": "https://localhost:8080/",
          "height": 92
        },
        "outputId": "8dfa1ed1-a365-46a8-953e-3f9cdc912fea"
      },
      "outputs": [
        {
          "output_type": "execute_result",
          "data": {
            "text/plain": [
              "GradientBoostingClassifier(learning_rate=0.05, max_features=0.3,\n",
              "                           random_state=42, subsample=0.3)"
            ],
            "text/html": [
              "<style>#sk-container-id-3 {color: black;background-color: white;}#sk-container-id-3 pre{padding: 0;}#sk-container-id-3 div.sk-toggleable {background-color: white;}#sk-container-id-3 label.sk-toggleable__label {cursor: pointer;display: block;width: 100%;margin-bottom: 0;padding: 0.3em;box-sizing: border-box;text-align: center;}#sk-container-id-3 label.sk-toggleable__label-arrow:before {content: \"▸\";float: left;margin-right: 0.25em;color: #696969;}#sk-container-id-3 label.sk-toggleable__label-arrow:hover:before {color: black;}#sk-container-id-3 div.sk-estimator:hover label.sk-toggleable__label-arrow:before {color: black;}#sk-container-id-3 div.sk-toggleable__content {max-height: 0;max-width: 0;overflow: hidden;text-align: left;background-color: #f0f8ff;}#sk-container-id-3 div.sk-toggleable__content pre {margin: 0.2em;color: black;border-radius: 0.25em;background-color: #f0f8ff;}#sk-container-id-3 input.sk-toggleable__control:checked~div.sk-toggleable__content {max-height: 200px;max-width: 100%;overflow: auto;}#sk-container-id-3 input.sk-toggleable__control:checked~label.sk-toggleable__label-arrow:before {content: \"▾\";}#sk-container-id-3 div.sk-estimator input.sk-toggleable__control:checked~label.sk-toggleable__label {background-color: #d4ebff;}#sk-container-id-3 div.sk-label input.sk-toggleable__control:checked~label.sk-toggleable__label {background-color: #d4ebff;}#sk-container-id-3 input.sk-hidden--visually {border: 0;clip: rect(1px 1px 1px 1px);clip: rect(1px, 1px, 1px, 1px);height: 1px;margin: -1px;overflow: hidden;padding: 0;position: absolute;width: 1px;}#sk-container-id-3 div.sk-estimator {font-family: monospace;background-color: #f0f8ff;border: 1px dotted black;border-radius: 0.25em;box-sizing: border-box;margin-bottom: 0.5em;}#sk-container-id-3 div.sk-estimator:hover {background-color: #d4ebff;}#sk-container-id-3 div.sk-parallel-item::after {content: \"\";width: 100%;border-bottom: 1px solid gray;flex-grow: 1;}#sk-container-id-3 div.sk-label:hover label.sk-toggleable__label {background-color: #d4ebff;}#sk-container-id-3 div.sk-serial::before {content: \"\";position: absolute;border-left: 1px solid gray;box-sizing: border-box;top: 0;bottom: 0;left: 50%;z-index: 0;}#sk-container-id-3 div.sk-serial {display: flex;flex-direction: column;align-items: center;background-color: white;padding-right: 0.2em;padding-left: 0.2em;position: relative;}#sk-container-id-3 div.sk-item {position: relative;z-index: 1;}#sk-container-id-3 div.sk-parallel {display: flex;align-items: stretch;justify-content: center;background-color: white;position: relative;}#sk-container-id-3 div.sk-item::before, #sk-container-id-3 div.sk-parallel-item::before {content: \"\";position: absolute;border-left: 1px solid gray;box-sizing: border-box;top: 0;bottom: 0;left: 50%;z-index: -1;}#sk-container-id-3 div.sk-parallel-item {display: flex;flex-direction: column;z-index: 1;position: relative;background-color: white;}#sk-container-id-3 div.sk-parallel-item:first-child::after {align-self: flex-end;width: 50%;}#sk-container-id-3 div.sk-parallel-item:last-child::after {align-self: flex-start;width: 50%;}#sk-container-id-3 div.sk-parallel-item:only-child::after {width: 0;}#sk-container-id-3 div.sk-dashed-wrapped {border: 1px dashed gray;margin: 0 0.4em 0.5em 0.4em;box-sizing: border-box;padding-bottom: 0.4em;background-color: white;}#sk-container-id-3 div.sk-label label {font-family: monospace;font-weight: bold;display: inline-block;line-height: 1.2em;}#sk-container-id-3 div.sk-label-container {text-align: center;}#sk-container-id-3 div.sk-container {/* jupyter's `normalize.less` sets `[hidden] { display: none; }` but bootstrap.min.css set `[hidden] { display: none !important; }` so we also need the `!important` here to be able to override the default hidden behavior on the sphinx rendered scikit-learn.org. See: https://github.com/scikit-learn/scikit-learn/issues/21755 */display: inline-block !important;position: relative;}#sk-container-id-3 div.sk-text-repr-fallback {display: none;}</style><div id=\"sk-container-id-3\" class=\"sk-top-container\"><div class=\"sk-text-repr-fallback\"><pre>GradientBoostingClassifier(learning_rate=0.05, max_features=0.3,\n",
              "                           random_state=42, subsample=0.3)</pre><b>In a Jupyter environment, please rerun this cell to show the HTML representation or trust the notebook. <br />On GitHub, the HTML representation is unable to render, please try loading this page with nbviewer.org.</b></div><div class=\"sk-container\" hidden><div class=\"sk-item\"><div class=\"sk-estimator sk-toggleable\"><input class=\"sk-toggleable__control sk-hidden--visually\" id=\"sk-estimator-id-3\" type=\"checkbox\" checked><label for=\"sk-estimator-id-3\" class=\"sk-toggleable__label sk-toggleable__label-arrow\">GradientBoostingClassifier</label><div class=\"sk-toggleable__content\"><pre>GradientBoostingClassifier(learning_rate=0.05, max_features=0.3,\n",
              "                           random_state=42, subsample=0.3)</pre></div></div></div></div></div>"
            ]
          },
          "metadata": {},
          "execution_count": 45
        }
      ],
      "source": [
        "gbc_best_estimator"
      ]
    },
    {
      "cell_type": "code",
      "execution_count": 46,
      "metadata": {
        "id": "oBmcHrTCZ6T6",
        "colab": {
          "base_uri": "https://localhost:8080/"
        },
        "outputId": "c0a47632-8ce8-4645-e72b-dc3130131793"
      },
      "outputs": [
        {
          "output_type": "stream",
          "name": "stdout",
          "text": [
            "Fitting 10 folds for each of 5 candidates, totalling 50 fits\n"
          ]
        }
      ],
      "source": [
        "# XGB_classifier:\n",
        "xgb_grid_param = {'n_estimators' : n_estimators\n",
        "              }\n",
        "\n",
        "xgb_GridSearchCV = GridSearchCV(XGB_classifier,\n",
        "                    param_grid = xgb_grid_param,\n",
        "                    cv = k_fold,\n",
        "                    scoring = scoring_parameter,\n",
        "                    verbose = 1)\n",
        "\n",
        "xgb_GridSearchCV.fit(X_train, Y_train)\n",
        "\n",
        "xgb_best_estimator = xgb_GridSearchCV.best_estimator_\n",
        "xgb_best_score = xgb_GridSearchCV.best_score_"
      ]
    },
    {
      "cell_type": "code",
      "execution_count": 47,
      "metadata": {
        "id": "sGx4C6b8Z_h_",
        "colab": {
          "base_uri": "https://localhost:8080/"
        },
        "outputId": "48273db2-998e-4dc1-bbd0-25ef6ca09ef2"
      },
      "outputs": [
        {
          "output_type": "execute_result",
          "data": {
            "text/plain": [
              "0.5558620689655173"
            ]
          },
          "metadata": {},
          "execution_count": 47
        }
      ],
      "source": [
        "xgb_best_score"
      ]
    },
    {
      "cell_type": "code",
      "execution_count": 48,
      "metadata": {
        "id": "fu6f0fk8aCMz",
        "colab": {
          "base_uri": "https://localhost:8080/",
          "height": 248
        },
        "outputId": "63d782fc-3ac7-4039-8ba9-02c808332dfb"
      },
      "outputs": [
        {
          "output_type": "execute_result",
          "data": {
            "text/plain": [
              "XGBClassifier(base_score=None, booster=None, callbacks=None,\n",
              "              colsample_bylevel=None, colsample_bynode=None,\n",
              "              colsample_bytree=None, early_stopping_rounds=None,\n",
              "              enable_categorical=False, eval_metric=None, feature_types=None,\n",
              "              gamma=None, gpu_id=None, grow_policy=None, importance_type=None,\n",
              "              interaction_constraints=None, learning_rate=None, max_bin=None,\n",
              "              max_cat_threshold=None, max_cat_to_onehot=None,\n",
              "              max_delta_step=None, max_depth=None, max_leaves=None,\n",
              "              min_child_weight=None, missing=nan, monotone_constraints=None,\n",
              "              n_estimators=500, n_jobs=None, num_parallel_tree=None,\n",
              "              objective='multi:softprob', predictor=None, ...)"
            ],
            "text/html": [
              "<style>#sk-container-id-4 {color: black;background-color: white;}#sk-container-id-4 pre{padding: 0;}#sk-container-id-4 div.sk-toggleable {background-color: white;}#sk-container-id-4 label.sk-toggleable__label {cursor: pointer;display: block;width: 100%;margin-bottom: 0;padding: 0.3em;box-sizing: border-box;text-align: center;}#sk-container-id-4 label.sk-toggleable__label-arrow:before {content: \"▸\";float: left;margin-right: 0.25em;color: #696969;}#sk-container-id-4 label.sk-toggleable__label-arrow:hover:before {color: black;}#sk-container-id-4 div.sk-estimator:hover label.sk-toggleable__label-arrow:before {color: black;}#sk-container-id-4 div.sk-toggleable__content {max-height: 0;max-width: 0;overflow: hidden;text-align: left;background-color: #f0f8ff;}#sk-container-id-4 div.sk-toggleable__content pre {margin: 0.2em;color: black;border-radius: 0.25em;background-color: #f0f8ff;}#sk-container-id-4 input.sk-toggleable__control:checked~div.sk-toggleable__content {max-height: 200px;max-width: 100%;overflow: auto;}#sk-container-id-4 input.sk-toggleable__control:checked~label.sk-toggleable__label-arrow:before {content: \"▾\";}#sk-container-id-4 div.sk-estimator input.sk-toggleable__control:checked~label.sk-toggleable__label {background-color: #d4ebff;}#sk-container-id-4 div.sk-label input.sk-toggleable__control:checked~label.sk-toggleable__label {background-color: #d4ebff;}#sk-container-id-4 input.sk-hidden--visually {border: 0;clip: rect(1px 1px 1px 1px);clip: rect(1px, 1px, 1px, 1px);height: 1px;margin: -1px;overflow: hidden;padding: 0;position: absolute;width: 1px;}#sk-container-id-4 div.sk-estimator {font-family: monospace;background-color: #f0f8ff;border: 1px dotted black;border-radius: 0.25em;box-sizing: border-box;margin-bottom: 0.5em;}#sk-container-id-4 div.sk-estimator:hover {background-color: #d4ebff;}#sk-container-id-4 div.sk-parallel-item::after {content: \"\";width: 100%;border-bottom: 1px solid gray;flex-grow: 1;}#sk-container-id-4 div.sk-label:hover label.sk-toggleable__label {background-color: #d4ebff;}#sk-container-id-4 div.sk-serial::before {content: \"\";position: absolute;border-left: 1px solid gray;box-sizing: border-box;top: 0;bottom: 0;left: 50%;z-index: 0;}#sk-container-id-4 div.sk-serial {display: flex;flex-direction: column;align-items: center;background-color: white;padding-right: 0.2em;padding-left: 0.2em;position: relative;}#sk-container-id-4 div.sk-item {position: relative;z-index: 1;}#sk-container-id-4 div.sk-parallel {display: flex;align-items: stretch;justify-content: center;background-color: white;position: relative;}#sk-container-id-4 div.sk-item::before, #sk-container-id-4 div.sk-parallel-item::before {content: \"\";position: absolute;border-left: 1px solid gray;box-sizing: border-box;top: 0;bottom: 0;left: 50%;z-index: -1;}#sk-container-id-4 div.sk-parallel-item {display: flex;flex-direction: column;z-index: 1;position: relative;background-color: white;}#sk-container-id-4 div.sk-parallel-item:first-child::after {align-self: flex-end;width: 50%;}#sk-container-id-4 div.sk-parallel-item:last-child::after {align-self: flex-start;width: 50%;}#sk-container-id-4 div.sk-parallel-item:only-child::after {width: 0;}#sk-container-id-4 div.sk-dashed-wrapped {border: 1px dashed gray;margin: 0 0.4em 0.5em 0.4em;box-sizing: border-box;padding-bottom: 0.4em;background-color: white;}#sk-container-id-4 div.sk-label label {font-family: monospace;font-weight: bold;display: inline-block;line-height: 1.2em;}#sk-container-id-4 div.sk-label-container {text-align: center;}#sk-container-id-4 div.sk-container {/* jupyter's `normalize.less` sets `[hidden] { display: none; }` but bootstrap.min.css set `[hidden] { display: none !important; }` so we also need the `!important` here to be able to override the default hidden behavior on the sphinx rendered scikit-learn.org. See: https://github.com/scikit-learn/scikit-learn/issues/21755 */display: inline-block !important;position: relative;}#sk-container-id-4 div.sk-text-repr-fallback {display: none;}</style><div id=\"sk-container-id-4\" class=\"sk-top-container\"><div class=\"sk-text-repr-fallback\"><pre>XGBClassifier(base_score=None, booster=None, callbacks=None,\n",
              "              colsample_bylevel=None, colsample_bynode=None,\n",
              "              colsample_bytree=None, early_stopping_rounds=None,\n",
              "              enable_categorical=False, eval_metric=None, feature_types=None,\n",
              "              gamma=None, gpu_id=None, grow_policy=None, importance_type=None,\n",
              "              interaction_constraints=None, learning_rate=None, max_bin=None,\n",
              "              max_cat_threshold=None, max_cat_to_onehot=None,\n",
              "              max_delta_step=None, max_depth=None, max_leaves=None,\n",
              "              min_child_weight=None, missing=nan, monotone_constraints=None,\n",
              "              n_estimators=500, n_jobs=None, num_parallel_tree=None,\n",
              "              objective=&#x27;multi:softprob&#x27;, predictor=None, ...)</pre><b>In a Jupyter environment, please rerun this cell to show the HTML representation or trust the notebook. <br />On GitHub, the HTML representation is unable to render, please try loading this page with nbviewer.org.</b></div><div class=\"sk-container\" hidden><div class=\"sk-item\"><div class=\"sk-estimator sk-toggleable\"><input class=\"sk-toggleable__control sk-hidden--visually\" id=\"sk-estimator-id-4\" type=\"checkbox\" checked><label for=\"sk-estimator-id-4\" class=\"sk-toggleable__label sk-toggleable__label-arrow\">XGBClassifier</label><div class=\"sk-toggleable__content\"><pre>XGBClassifier(base_score=None, booster=None, callbacks=None,\n",
              "              colsample_bylevel=None, colsample_bynode=None,\n",
              "              colsample_bytree=None, early_stopping_rounds=None,\n",
              "              enable_categorical=False, eval_metric=None, feature_types=None,\n",
              "              gamma=None, gpu_id=None, grow_policy=None, importance_type=None,\n",
              "              interaction_constraints=None, learning_rate=None, max_bin=None,\n",
              "              max_cat_threshold=None, max_cat_to_onehot=None,\n",
              "              max_delta_step=None, max_depth=None, max_leaves=None,\n",
              "              min_child_weight=None, missing=nan, monotone_constraints=None,\n",
              "              n_estimators=500, n_jobs=None, num_parallel_tree=None,\n",
              "              objective=&#x27;multi:softprob&#x27;, predictor=None, ...)</pre></div></div></div></div></div>"
            ]
          },
          "metadata": {},
          "execution_count": 48
        }
      ],
      "source": [
        "xgb_best_estimator"
      ]
    },
    {
      "cell_type": "markdown",
      "metadata": {
        "id": "esoSP9yQaiuQ"
      },
      "source": [
        "### Plot Learning Curve"
      ]
    },
    {
      "cell_type": "code",
      "execution_count": 49,
      "metadata": {
        "id": "snY12Dhva-9l"
      },
      "outputs": [],
      "source": [
        "import matplotlib.pyplot as plt\n",
        "import numpy as np\n",
        "from sklearn.model_selection import learning_curve\n",
        "\n",
        "# Plot learning curve\n",
        "def plot_learning_curve(estimator, title, X, y, ylim=None, cv=None, n_jobs=-1, train_sizes=np.linspace(.1, 1.0, 5)):\n",
        "\n",
        "# Generate a simple plot of the test and traning learning curve.\n",
        "# Parameters\n",
        "#----------\n",
        "#estimator : object type that implements the \"fit\" and \"predict\" methods An object of that type which is cloned for each validation.\n",
        "#title : string\n",
        "#Title for the chart.\n",
        "#X : array-like, shape (n_samples, n_features)\n",
        "#Training vector, where n_samples is the number of samples and n_features is the number of features.\n",
        "#y : array-like, shape (n_samples) or (n_samples, n_features), optional Target relative to X for classification or regression;\n",
        "#None for unsupervised learning.\n",
        "#ylim : tuple, shape (ymin, ymax), optional Defines minimum and maximum yvalues plotted.\n",
        "#cv : integer, cross-validation generator, optional\n",
        "#If an integer is passed, it is the number of folds (defaults to 3). Specific cross-validation objects can be passed, see sklearn.cross_validation module for the list of possible objects\n",
        "#n_jobs : integer, optional\n",
        "#Number of jobs to run in parallel (default 1).\n",
        "#x1 = np.linspace(0, 10, 8, endpoint=True) produces 8 evenly spaced points in the range 0 to 10\n",
        "\n",
        "  plt.figure()\n",
        "  plt.title(title)\n",
        "  if ylim is not None: plt.ylim(*ylim)\n",
        "\n",
        "  plt.xlabel(\"Training examples\")\n",
        "  plt.ylabel(\"Score\")\n",
        "  train_sizes, train_scores, test_scores = learning_curve(  estimator, X, y, cv=cv, n_jobs=n_jobs, train_sizes=train_sizes)\n",
        "  train_scores_mean = np.mean(train_scores, axis=1)\n",
        "  train_scores_std = np.std(train_scores, axis=1)\n",
        "  test_scores_mean = np.mean(test_scores, axis=1)\n",
        "  test_scores_std = np.std(test_scores, axis=1)\n",
        "  plt.grid()\n",
        "\n",
        "  plt.fill_between(train_sizes, train_scores_mean - train_scores_std, train_scores_mean + train_scores_std, alpha=0.1, color=\"r\")\n",
        "  plt.fill_between(train_sizes, test_scores_mean - test_scores_std, test_scores_mean + test_scores_std, alpha=0.1, color=\"g\")\n",
        "  plt.plot(train_sizes, train_scores_mean, 'o-', color=\"r\", label=\"Training score\")\n",
        "  plt.plot(train_sizes, test_scores_mean, 'o-', color=\"g\",\n",
        "\n",
        "  label=\"Cross-validation score\")\n",
        "\n",
        "  plt.legend(loc=\"best\")\n",
        "  return plt\n"
      ]
    },
    {
      "cell_type": "code",
      "execution_count": 50,
      "metadata": {
        "id": "gc1sKzsjbKZp",
        "colab": {
          "base_uri": "https://localhost:8080/",
          "height": 472
        },
        "outputId": "b9b7a192-b29e-4fca-b523-76096dffe675"
      },
      "outputs": [
        {
          "output_type": "display_data",
          "data": {
            "text/plain": [
              "<Figure size 640x480 with 1 Axes>"
            ],
            "image/png": "[encoded data removed]"
          },
          "metadata": {}
        }
      ],
      "source": [
        "# Gradient boosting - Learning Curve\n",
        "plot_learning_curve(estimator = gbc_best_estimator,title = \"GBC learning curve\", X = X_train, y = Y_train, cv = k_fold);"
      ]
    },
    {
      "cell_type": "code",
      "execution_count": 51,
      "metadata": {
        "id": "1ZkRTxdfbNlM",
        "colab": {
          "base_uri": "https://localhost:8080/",
          "height": 472
        },
        "outputId": "c7d5d4d6-066f-4e5f-ad78-9203fbf52329"
      },
      "outputs": [
        {
          "output_type": "display_data",
          "data": {
            "text/plain": [
              "<Figure size 640x480 with 1 Axes>"
            ],
            "image/png": "[encoded data removed]"
          },
          "metadata": {}
        }
      ],
      "source": [
        "# Random Forest - Learning Curve\n",
        "plot_learning_curve(estimator = rfc_best_estimator,title = \"Random Forest learning curve\", X = X_train, y = Y_train, cv = k_fold);"
      ]
    },
    {
      "cell_type": "code",
      "execution_count": 52,
      "metadata": {
        "id": "1WGPUfK6bRDY",
        "colab": {
          "base_uri": "https://localhost:8080/",
          "height": 472
        },
        "outputId": "a5c730bc-50d2-4107-d897-3dee927a7a37"
      },
      "outputs": [
        {
          "output_type": "display_data",
          "data": {
            "text/plain": [
              "<Figure size 640x480 with 1 Axes>"
            ],
            "image/png": "[encoded data removed]"
          },
          "metadata": {}
        }
      ],
      "source": [
        "# XG boosting - Learning Curve\n",
        "plot_learning_curve(estimator = xgb_best_estimator,title = \"XGBoosting learning curve\", X = X_train, y = Y_train, cv = k_fold);"
      ]
    },
    {
      "cell_type": "code",
      "source": [
        "# Adaboost - Learning Curve\n",
        "plot_learning_curve(estimator = ada_best_estimator,title = \"AdaBoost learning curve\", X = X_train, y = Y_train, cv = k_fold);"
      ],
      "metadata": {
        "id": "CqR54SZsQWg0",
        "colab": {
          "base_uri": "https://localhost:8080/",
          "height": 472
        },
        "outputId": "312f8ca7-a1f5-428b-bda8-16b64b0df589"
      },
      "execution_count": 53,
      "outputs": [
        {
          "output_type": "display_data",
          "data": {
            "text/plain": [
              "<Figure size 640x480 with 1 Axes>"
            ],
            "image/png": "[encoded data removed]"
          },
          "metadata": {}
        }
      ]
    },
    {
      "cell_type": "markdown",
      "metadata": {
        "id": "Q1rf2O7pu_q8"
      },
      "source": [
        "### Use VotingClassifier of sklearn to create an ensemble learner that utilizes the top estimators you found above. Set the voting parameter to 'soft'. Use cross_val_score to calculate its score and print out its mean and std values."
      ]
    },
    {
      "cell_type": "code",
      "execution_count": 54,
      "metadata": {
        "id": "0WukqonzvLfN"
      },
      "outputs": [],
      "source": [
        "from sklearn.ensemble import VotingClassifier\n",
        "\n",
        "VotingPredictor = VotingClassifier(estimators =\n",
        "                           [('gbc', gbc_best_estimator),\n",
        "                            ('rfc', rfc_best_estimator),\n",
        "                            ('xgb', xgb_best_estimator),\n",
        "                            ('ada',ada_best_estimator),\n",
        "                            ('sgd',SGD_classifier),\n",
        "                            ('svc',SVC_linear),\n",
        "                            ('log',logistic_regression)\n",
        "                            ],\n",
        "                           voting='hard') #'soft' parameter cannot be used since probability estimates are not available\n",
        "\n",
        "VotingPredictor = VotingPredictor.fit(X_train, Y_train)\n",
        "\n",
        "emsemble_scores = cross_val_score(VotingPredictor, X_train, Y_train, cv = k_fold, scoring = scoring_parameter)\n"
      ]
    },
    {
      "cell_type": "code",
      "source": [
        "print(\"emsemble: \")\n",
        "print(\"- mean(): \" , emsemble_scores.mean())\n",
        "print(\"- std(): \" , emsemble_scores.std())"
      ],
      "metadata": {
        "id": "-kyHB5FwQ8Lz",
        "colab": {
          "base_uri": "https://localhost:8080/"
        },
        "outputId": "5bdc4aa7-8570-4922-aa73-77291f3313d5"
      },
      "execution_count": 55,
      "outputs": [
        {
          "metadata": {
            "tags": null
          },
          "name": "stdout",
          "output_type": "stream",
          "text": [
            "emsemble: \n",
            "- mean():  0.5822988505747128\n",
            "- std():  0.04415409186899065\n"
          ]
        }
      ]
    }
  ],
  "metadata": {
    "colab": {
      "provenance": []
    },
    "kernelspec": {
      "display_name": "Python 3",
      "language": "python",
      "name": "python3"
    },
    "language_info": {
      "codemirror_mode": {
        "name": "ipython",
        "version": 3
      },
      "file_extension": ".py",
      "mimetype": "text/x-python",
      "name": "python",
      "nbconvert_exporter": "python",
      "pygments_lexer": "ipython3",
      "version": "3.8.3"
    },
    "nav_menu": {},
    "toc": {
      "navigate_menu": true,
      "number_sections": true,
      "sideBar": true,
      "threshold": 6,
      "toc_cell": false,
      "toc_section_display": "block",
      "toc_window_display": false
    }
  },
  "nbformat": 4,
  "nbformat_minor": 0
}
